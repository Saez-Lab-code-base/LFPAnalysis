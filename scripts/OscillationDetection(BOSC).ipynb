{
 "cells": [
  {
   "cell_type": "markdown",
   "id": "b5d835a5-66d9-45ea-92ae-5580e98d9aba",
   "metadata": {},
   "source": [
    "In this notebook, we are going to load some of the data that we processed in the Condensed Notebook and perform within-trial analysis of the oscillation bursts using eBOSC, a sliding window PSD peak detector thresholded against the data. "
   ]
  },
  {
   "cell_type": "code",
   "execution_count": 5,
   "id": "2a2cae51-ce6b-48a4-98d9-d025911c1005",
   "metadata": {
    "tags": []
   },
   "outputs": [],
   "source": [
    "%matplotlib inline\n",
    "%reload_ext autoreload\n",
    "%autoreload 2"
   ]
  },
  {
   "cell_type": "code",
   "execution_count": 55,
   "id": "80240f34-afa2-46d1-a7bf-07e54d707f04",
   "metadata": {},
   "outputs": [],
   "source": [
    "import numpy as np\n",
    "import mne\n",
    "import mne_connectivity\n",
    "import pactools\n",
    "from mne_connectivity import phase_slope_index, seed_target_indices, spectral_connectivity_epochs\n",
    "from glob import glob\n",
    "import matplotlib.pyplot as plt\n",
    "from matplotlib.backends.backend_pdf import PdfPages\n",
    "import seaborn as sns\n",
    "from scipy.stats import zscore, linregress, ttest_ind, ttest_rel, ttest_1samp\n",
    "import pandas as pd\n",
    "from mne.preprocessing.bads import _find_outliers\n",
    "import fooof\n",
    "# Import plotting functions\n",
    "from fooof.plts.spectra import plot_spectrum, plot_spectra\n",
    "# Import the FOOOF object\n",
    "from fooof import FOOOF\n",
    "from fooof import FOOOFGroup\n",
    "import os \n",
    "import joblib\n",
    "import statsmodels.formula.api as smf\n",
    "import statsmodels.api as sm\n",
    "import pickle\n",
    "from tqdm import tqdm\n",
    "from IPython.display import clear_output\n",
    "import warnings \n",
    "\n",
    "# I only want to see warnings once\n",
    "warnings.filterwarnings('ignore')\n",
    "\n",
    "from joblib import delayed, Parallel\n",
    "from statsmodels.stats import multitest"
   ]
  },
  {
   "cell_type": "markdown",
   "id": "9a719a26-4ae8-4fcc-b313-056485819433",
   "metadata": {},
   "source": [
    "Note: If you have installed this package in editable form on Minerva, you must append the local path! This is because Minerva requires that you point your package installs away from the local directory for space reasons, but editable packages have to be installed locally."
   ]
  },
  {
   "cell_type": "code",
   "execution_count": 7,
   "id": "a00dbdbb-e168-4bb6-bdb6-ed688aaaf42a",
   "metadata": {
    "tags": []
   },
   "outputs": [],
   "source": [
    "import sys\n",
    "sys.path.append('/hpc/users/qasims01/resources/LFPAnalysis')"
   ]
  },
  {
   "cell_type": "code",
   "execution_count": 17,
   "id": "00691c36",
   "metadata": {
    "tags": []
   },
   "outputs": [],
   "source": [
    "from LFPAnalysis import lfp_preprocess_utils, sync_utils, analysis_utils, nlx_utils, oscillation_utils, statistics_utils\n"
   ]
  },
  {
   "cell_type": "code",
   "execution_count": 18,
   "id": "b3741fd9",
   "metadata": {
    "tags": []
   },
   "outputs": [],
   "source": [
    "import h5io"
   ]
  },
  {
   "cell_type": "markdown",
   "id": "6f7c77a2-1d7f-4313-a3c5-e91ca22e5064",
   "metadata": {},
   "source": [
    "## First, get the behavior data"
   ]
  },
  {
   "cell_type": "markdown",
   "id": "5d312c55-10f7-466c-b621-abc366d7708c",
   "metadata": {},
   "source": [
    "This is from another notebook with a kernel and environment specifically for beahvior"
   ]
  },
  {
   "cell_type": "code",
   "execution_count": 12,
   "id": "f9fa4663-a67d-4fdc-a581-cc09353f89ae",
   "metadata": {
    "tags": []
   },
   "outputs": [],
   "source": [
    "base_dir = '/sc/arion' # this is the root directory for most un-archived data and results\n",
    "load_dir = f'{base_dir}/work/qasims01/MemoryBanditData/EMU'\n",
    "\n",
    "# Load the demographics data to get information about who has run the task\n",
    "demo_file = f'{base_dir}/projects/guLab/Salman/EMU/MemoryBanditsDatabase.xlsx'\n",
    "demo_data = pd.read_excel(demo_file, engine='openpyxl')\n",
    "subj_df = demo_data[(demo_data.LongVersion==1) & (demo_data.Minerva==1)]\n",
    "\n",
    "# Let's get rid of Iowa patients for now \n",
    "\n",
    "subj_df = subj_df[subj_df.Site!='UI']\n",
    "\n",
    "days = ['Day1', 'Day2']\n",
    "subj_ids = subj_df.MSSMCode.values\n",
    "subj_formats = subj_df.format.values\n",
    "subj_sites = subj_df.Site.values\n",
    "subj_days = subj_df.Day2.values"
   ]
  },
  {
   "cell_type": "code",
   "execution_count": 13,
   "id": "9732dc9a-db8f-49c1-bd30-67c6f3ecaca6",
   "metadata": {
    "tags": []
   },
   "outputs": [],
   "source": [
    "# load behavioral data\n",
    "learn_df = pd.read_csv(f'{load_dir}/learn_df.csv')\n",
    "combined_df = pd.read_csv(f'{load_dir}/combined_df.csv')\n",
    "\n",
    "# Filter just to the participants in this notebook\n",
    "learn_df = learn_df[learn_df.participant.isin(subj_ids)]\n",
    "combined_df = combined_df[combined_df.participant.isin(subj_ids)]\n",
    "\n",
    "\n",
    "# I enter the day information in stupidly \n",
    "combined_df.condition = combined_df.condition.apply(lambda x: 'Day1' if x=='day_1' else 'Day2' if x=='day_2' else np.nan)\n",
    "combined_df['recog_time'] = combined_df['recog_time'].apply(lambda x: float(x) if (~pd.isna(x)) & (x!='None') else x)\n",
    "combined_df['baseline_start_mem'] = combined_df['baseline_start_mem'].apply(lambda x: float(x) if (~pd.isna(x)) & (x!='None') else x)\n",
    "\n",
    "# # add RPE to the combined df dataframe: \n",
    "\n",
    "# combined_df['rpe'] = np.nan\n",
    "# for ix, row in learn_df.iterrows():\n",
    "#     combined_df.loc[(combined_df.img_path==row.img_path) & (combined_df.participant==row.participant), 'rpe'] = row.rpe"
   ]
  },
  {
   "cell_type": "code",
   "execution_count": 36,
   "id": "f4ef2a93-599f-4587-af3c-fe859c5f76c1",
   "metadata": {
    "tags": []
   },
   "outputs": [
    {
     "data": {
      "text/plain": [
       "['BOSC_detect',\n",
       " 'BOSC_tf',\n",
       " 'Path',\n",
       " '__builtins__',\n",
       " '__cached__',\n",
       " '__doc__',\n",
       " '__file__',\n",
       " '__loader__',\n",
       " '__name__',\n",
       " '__package__',\n",
       " '__spec__',\n",
       " 'chi2',\n",
       " 'compute_connectivity',\n",
       " 'compute_eBOSC_parallel',\n",
       " 'eBOSC_episode_create',\n",
       " 'eBOSC_episode_postproc_fwhm',\n",
       " 'eBOSC_episode_postproc_maxbias',\n",
       " 'eBOSC_episode_rm_shoulder',\n",
       " 'eBOSC_episode_sparsefreq',\n",
       " 'eBOSC_getThresholds',\n",
       " 'eBOSC_wrapper',\n",
       " 'find_nearest_value',\n",
       " 'getTimeFromFTmat',\n",
       " 'get_project_root',\n",
       " 'mne',\n",
       " 'np',\n",
       " 'numpy',\n",
       " 'pd',\n",
       " 'phase_slope_index',\n",
       " 'seed_target_indices',\n",
       " 'sio',\n",
       " 'sm',\n",
       " 'spectral_connectivity_epochs',\n",
       " 'swap_time_blocks',\n",
       " 'tqdm',\n",
       " 'zscore']"
      ]
     },
     "execution_count": 36,
     "metadata": {},
     "output_type": "execute_result"
    }
   ],
   "source": [
    "dir(oscillation_utils)"
   ]
  },
  {
   "cell_type": "markdown",
   "id": "3c348bf3-527a-4cbc-8ca9-035e9d9358cb",
   "metadata": {
    "tags": []
   },
   "source": [
    "# eBOSC"
   ]
  },
  {
   "cell_type": "markdown",
   "id": "9d1608c1-a08d-4c51-962f-adaa8b11d02c",
   "metadata": {},
   "source": [
    "eBOSC allows us to identify transient bursts"
   ]
  },
  {
   "cell_type": "markdown",
   "id": "64c89dbc-69c8-4153-84df-9d49964cfd02",
   "metadata": {},
   "source": [
    "After epoching, we can compute the eBOSC, using the same frequency range we used for FOOOF. This is because both use line-fitting regiments for the PSD that tend to break down when higher frequencies are included. "
   ]
  },
  {
   "cell_type": "code",
   "execution_count": 14,
   "id": "e667a26f-3a9c-4601-bdc6-d62dc4cf1b2c",
   "metadata": {
    "tags": []
   },
   "outputs": [],
   "source": [
    "cfg_eBOSC = dict()\n",
    "cfg_eBOSC['F'] = np.linspace(1,30, 44)   # frequency sampling\n",
    "cfg_eBOSC['wavenumber'] = 6                   # wavelet parameter (time-frequency tradeoff)\n",
    "cfg_eBOSC['fsample'] = 500 # current sampling frequency of EEG data\n",
    "cfg_eBOSC['pad.tfr_s'] = 0                   #  padding following wavelet transform to avoid edge artifacts in seconds (bi-lateral)\n",
    "cfg_eBOSC['pad.detection_s'] = 0             # padding following rhythm detection in seconds (bi-lateral); 'shoulder' for BOSC eBOSC.detected matrix to account for duration threshold\n",
    "cfg_eBOSC['pad.background_s'] = 0             # padding of segments for BG (only avoiding edge artifacts)\n",
    "\n",
    "cfg_eBOSC['threshold.excludePeak'] = np.array([])   # lower and upper bound of frequencies to be excluded during background fit (Hz) (previously: LowFreqExcludeBG HighFreqExcludeBG)\n",
    "cfg_eBOSC['threshold.duration'] = np.kron(np.ones((1,len(cfg_eBOSC['F']))),3) # vector of duration thresholds at each frequency (previously: ncyc)\n",
    "cfg_eBOSC['threshold.percentile'] = .95    # percentile of background fit for power threshold\n",
    "\n",
    "cfg_eBOSC['postproc.use'] = 'no'           # Post-processing of rhythmic eBOSC.episodes, i.e., wavelet 'deconvolution' (default = 'no')\n",
    "cfg_eBOSC['postproc.method'] = 'FWHM'       # Deconvolution method (default = 'MaxBias', FWHM: 'FWHM')\n",
    "cfg_eBOSC['postproc.edgeOnly'] = 'yes'      # Deconvolution only at on- and offsets of eBOSC.episodes? (default = 'yes')\n",
    "cfg_eBOSC['postproc.effSignal'] = 'PT'      # Power deconvolution on whole signal or signal above power threshold\n",
    "\n",
    "cfg_eBOSC['trial'] = []            # select trials (default: all, indicate in natural trial number (not zero-starting))\n",
    "cfg_eBOSC['trial_background'] = []       # select trials for background (default: all, indicate in natural trial"
   ]
  },
  {
   "cell_type": "code",
   "execution_count": 53,
   "id": "5b93c886-b8d7-4cd2-9ddc-70350fa60833",
   "metadata": {},
   "outputs": [
    {
     "name": "stderr",
     "output_type": "stream",
     "text": [
      "Computing eBOSC:   0%|          | 0/1 [00:00<?, ?it/s]"
     ]
    },
    {
     "name": "stdout",
     "output_type": "stream",
     "text": [
      "Reading /sc/arion/projects/guLab/Salman/EphysAnalyses/MS012/neural/Day1/feedback_start-epo.fif ...\n",
      "    Found the data of interest:\n",
      "        t =   -1500.00 ...    2500.00 ms\n",
      "        0 CTF compensation matrices available\n",
      "Adding metadata with 83 columns\n",
      "80 matching events found\n",
      "No baseline correction applied\n",
      "0 projection items activated\n",
      "Replacing existing metadata with 19 columns\n"
     ]
    },
    {
     "name": "stderr",
     "output_type": "stream",
     "text": [
      "[Parallel(n_jobs=-1)]: Using backend LokyBackend with 10 concurrent workers.\n",
      "/hpc/users/qasims01/resources/LFPAnalysis/LFPAnalysis/oscillation_utils.py:1284: FutureWarning: Dropping invalid columns in DataFrameGroupBy.mean is deprecated. In a future version, a TypeError will be raised. Before calling .mean, select only columns which should be valid for the function.\n",
      "  time_averaged_df = pd.DataFrame(eBOSC['detected'].groupby(['trial', 'frequency']).mean(numeric_only=False)).reset_index().drop(columns=['time'])\n",
      "/hpc/users/qasims01/resources/LFPAnalysis/LFPAnalysis/oscillation_utils.py:1284: FutureWarning: Dropping invalid columns in DataFrameGroupBy.mean is deprecated. In a future version, a TypeError will be raised. Before calling .mean, select only columns which should be valid for the function.\n",
      "  time_averaged_df = pd.DataFrame(eBOSC['detected'].groupby(['trial', 'frequency']).mean(numeric_only=False)).reset_index().drop(columns=['time'])\n",
      "/hpc/users/qasims01/resources/LFPAnalysis/LFPAnalysis/oscillation_utils.py:1284: FutureWarning: Dropping invalid columns in DataFrameGroupBy.mean is deprecated. In a future version, a TypeError will be raised. Before calling .mean, select only columns which should be valid for the function.\n",
      "  time_averaged_df = pd.DataFrame(eBOSC['detected'].groupby(['trial', 'frequency']).mean(numeric_only=False)).reset_index().drop(columns=['time'])\n",
      "/hpc/users/qasims01/resources/LFPAnalysis/LFPAnalysis/oscillation_utils.py:1284: FutureWarning: Dropping invalid columns in DataFrameGroupBy.mean is deprecated. In a future version, a TypeError will be raised. Before calling .mean, select only columns which should be valid for the function.\n",
      "  time_averaged_df = pd.DataFrame(eBOSC['detected'].groupby(['trial', 'frequency']).mean(numeric_only=False)).reset_index().drop(columns=['time'])\n",
      "/hpc/users/qasims01/resources/LFPAnalysis/LFPAnalysis/oscillation_utils.py:1284: FutureWarning: Dropping invalid columns in DataFrameGroupBy.mean is deprecated. In a future version, a TypeError will be raised. Before calling .mean, select only columns which should be valid for the function.\n",
      "  time_averaged_df = pd.DataFrame(eBOSC['detected'].groupby(['trial', 'frequency']).mean(numeric_only=False)).reset_index().drop(columns=['time'])\n",
      "/hpc/users/qasims01/resources/LFPAnalysis/LFPAnalysis/oscillation_utils.py:1284: FutureWarning: Dropping invalid columns in DataFrameGroupBy.mean is deprecated. In a future version, a TypeError will be raised. Before calling .mean, select only columns which should be valid for the function.\n",
      "  time_averaged_df = pd.DataFrame(eBOSC['detected'].groupby(['trial', 'frequency']).mean(numeric_only=False)).reset_index().drop(columns=['time'])\n",
      "/hpc/users/qasims01/resources/LFPAnalysis/LFPAnalysis/oscillation_utils.py:1284: FutureWarning: Dropping invalid columns in DataFrameGroupBy.mean is deprecated. In a future version, a TypeError will be raised. Before calling .mean, select only columns which should be valid for the function.\n",
      "  time_averaged_df = pd.DataFrame(eBOSC['detected'].groupby(['trial', 'frequency']).mean(numeric_only=False)).reset_index().drop(columns=['time'])\n",
      "/hpc/users/qasims01/resources/LFPAnalysis/LFPAnalysis/oscillation_utils.py:1292: FutureWarning: Dropping invalid columns in DataFrameGroupBy.mean is deprecated. In a future version, a TypeError will be raised. Before calling .mean, select only columns which should be valid for the function.\n",
      "  time_resolved_df = eBOSC['detected'].groupby(['trial', 'fband', 'time']).mean(numeric_only=False).reset_index().drop(columns=['frequency'])\n",
      "/hpc/users/qasims01/resources/LFPAnalysis/LFPAnalysis/oscillation_utils.py:1284: FutureWarning: Dropping invalid columns in DataFrameGroupBy.mean is deprecated. In a future version, a TypeError will be raised. Before calling .mean, select only columns which should be valid for the function.\n",
      "  time_averaged_df = pd.DataFrame(eBOSC['detected'].groupby(['trial', 'frequency']).mean(numeric_only=False)).reset_index().drop(columns=['time'])\n",
      "/hpc/users/qasims01/resources/LFPAnalysis/LFPAnalysis/oscillation_utils.py:1292: FutureWarning: Dropping invalid columns in DataFrameGroupBy.mean is deprecated. In a future version, a TypeError will be raised. Before calling .mean, select only columns which should be valid for the function.\n",
      "  time_resolved_df = eBOSC['detected'].groupby(['trial', 'fband', 'time']).mean(numeric_only=False).reset_index().drop(columns=['frequency'])\n",
      "/hpc/users/qasims01/resources/LFPAnalysis/LFPAnalysis/oscillation_utils.py:1284: FutureWarning: Dropping invalid columns in DataFrameGroupBy.mean is deprecated. In a future version, a TypeError will be raised. Before calling .mean, select only columns which should be valid for the function.\n",
      "  time_averaged_df = pd.DataFrame(eBOSC['detected'].groupby(['trial', 'frequency']).mean(numeric_only=False)).reset_index().drop(columns=['time'])\n",
      "/hpc/users/qasims01/resources/LFPAnalysis/LFPAnalysis/oscillation_utils.py:1292: FutureWarning: Dropping invalid columns in DataFrameGroupBy.mean is deprecated. In a future version, a TypeError will be raised. Before calling .mean, select only columns which should be valid for the function.\n",
      "  time_resolved_df = eBOSC['detected'].groupby(['trial', 'fband', 'time']).mean(numeric_only=False).reset_index().drop(columns=['frequency'])\n",
      "/hpc/users/qasims01/resources/LFPAnalysis/LFPAnalysis/oscillation_utils.py:1284: FutureWarning: Dropping invalid columns in DataFrameGroupBy.mean is deprecated. In a future version, a TypeError will be raised. Before calling .mean, select only columns which should be valid for the function.\n",
      "  time_averaged_df = pd.DataFrame(eBOSC['detected'].groupby(['trial', 'frequency']).mean(numeric_only=False)).reset_index().drop(columns=['time'])\n",
      "/hpc/users/qasims01/resources/LFPAnalysis/LFPAnalysis/oscillation_utils.py:1292: FutureWarning: Dropping invalid columns in DataFrameGroupBy.mean is deprecated. In a future version, a TypeError will be raised. Before calling .mean, select only columns which should be valid for the function.\n",
      "  time_resolved_df = eBOSC['detected'].groupby(['trial', 'fband', 'time']).mean(numeric_only=False).reset_index().drop(columns=['frequency'])\n",
      "/hpc/users/qasims01/resources/LFPAnalysis/LFPAnalysis/oscillation_utils.py:1292: FutureWarning: Dropping invalid columns in DataFrameGroupBy.mean is deprecated. In a future version, a TypeError will be raised. Before calling .mean, select only columns which should be valid for the function.\n",
      "  time_resolved_df = eBOSC['detected'].groupby(['trial', 'fband', 'time']).mean(numeric_only=False).reset_index().drop(columns=['frequency'])\n",
      "/hpc/users/qasims01/resources/LFPAnalysis/LFPAnalysis/oscillation_utils.py:1292: FutureWarning: Dropping invalid columns in DataFrameGroupBy.mean is deprecated. In a future version, a TypeError will be raised. Before calling .mean, select only columns which should be valid for the function.\n",
      "  time_resolved_df = eBOSC['detected'].groupby(['trial', 'fband', 'time']).mean(numeric_only=False).reset_index().drop(columns=['frequency'])\n",
      "/hpc/users/qasims01/resources/LFPAnalysis/LFPAnalysis/oscillation_utils.py:1292: FutureWarning: Dropping invalid columns in DataFrameGroupBy.mean is deprecated. In a future version, a TypeError will be raised. Before calling .mean, select only columns which should be valid for the function.\n",
      "  time_resolved_df = eBOSC['detected'].groupby(['trial', 'fband', 'time']).mean(numeric_only=False).reset_index().drop(columns=['frequency'])\n",
      "/hpc/users/qasims01/resources/LFPAnalysis/LFPAnalysis/oscillation_utils.py:1292: FutureWarning: Dropping invalid columns in DataFrameGroupBy.mean is deprecated. In a future version, a TypeError will be raised. Before calling .mean, select only columns which should be valid for the function.\n",
      "  time_resolved_df = eBOSC['detected'].groupby(['trial', 'fband', 'time']).mean(numeric_only=False).reset_index().drop(columns=['frequency'])\n",
      "/hpc/users/qasims01/resources/LFPAnalysis/LFPAnalysis/oscillation_utils.py:1292: FutureWarning: Dropping invalid columns in DataFrameGroupBy.mean is deprecated. In a future version, a TypeError will be raised. Before calling .mean, select only columns which should be valid for the function.\n",
      "  time_resolved_df = eBOSC['detected'].groupby(['trial', 'fband', 'time']).mean(numeric_only=False).reset_index().drop(columns=['frequency'])\n",
      "/hpc/users/qasims01/resources/LFPAnalysis/LFPAnalysis/oscillation_utils.py:1292: FutureWarning: Dropping invalid columns in DataFrameGroupBy.mean is deprecated. In a future version, a TypeError will be raised. Before calling .mean, select only columns which should be valid for the function.\n",
      "  time_resolved_df = eBOSC['detected'].groupby(['trial', 'fband', 'time']).mean(numeric_only=False).reset_index().drop(columns=['frequency'])\n",
      "/hpc/users/qasims01/resources/LFPAnalysis/LFPAnalysis/oscillation_utils.py:1284: FutureWarning: Dropping invalid columns in DataFrameGroupBy.mean is deprecated. In a future version, a TypeError will be raised. Before calling .mean, select only columns which should be valid for the function.\n",
      "  time_averaged_df = pd.DataFrame(eBOSC['detected'].groupby(['trial', 'frequency']).mean(numeric_only=False)).reset_index().drop(columns=['time'])\n",
      "/hpc/users/qasims01/resources/LFPAnalysis/LFPAnalysis/oscillation_utils.py:1284: FutureWarning: Dropping invalid columns in DataFrameGroupBy.mean is deprecated. In a future version, a TypeError will be raised. Before calling .mean, select only columns which should be valid for the function.\n",
      "  time_averaged_df = pd.DataFrame(eBOSC['detected'].groupby(['trial', 'frequency']).mean(numeric_only=False)).reset_index().drop(columns=['time'])\n",
      "/hpc/users/qasims01/resources/LFPAnalysis/LFPAnalysis/oscillation_utils.py:1284: FutureWarning: Dropping invalid columns in DataFrameGroupBy.mean is deprecated. In a future version, a TypeError will be raised. Before calling .mean, select only columns which should be valid for the function.\n",
      "  time_averaged_df = pd.DataFrame(eBOSC['detected'].groupby(['trial', 'frequency']).mean(numeric_only=False)).reset_index().drop(columns=['time'])\n",
      "/hpc/users/qasims01/resources/LFPAnalysis/LFPAnalysis/oscillation_utils.py:1284: FutureWarning: Dropping invalid columns in DataFrameGroupBy.mean is deprecated. In a future version, a TypeError will be raised. Before calling .mean, select only columns which should be valid for the function.\n",
      "  time_averaged_df = pd.DataFrame(eBOSC['detected'].groupby(['trial', 'frequency']).mean(numeric_only=False)).reset_index().drop(columns=['time'])\n",
      "/hpc/users/qasims01/resources/LFPAnalysis/LFPAnalysis/oscillation_utils.py:1284: FutureWarning: Dropping invalid columns in DataFrameGroupBy.mean is deprecated. In a future version, a TypeError will be raised. Before calling .mean, select only columns which should be valid for the function.\n",
      "  time_averaged_df = pd.DataFrame(eBOSC['detected'].groupby(['trial', 'frequency']).mean(numeric_only=False)).reset_index().drop(columns=['time'])\n",
      "/hpc/users/qasims01/resources/LFPAnalysis/LFPAnalysis/oscillation_utils.py:1284: FutureWarning: Dropping invalid columns in DataFrameGroupBy.mean is deprecated. In a future version, a TypeError will be raised. Before calling .mean, select only columns which should be valid for the function.\n",
      "  time_averaged_df = pd.DataFrame(eBOSC['detected'].groupby(['trial', 'frequency']).mean(numeric_only=False)).reset_index().drop(columns=['time'])\n",
      "/hpc/users/qasims01/resources/LFPAnalysis/LFPAnalysis/oscillation_utils.py:1284: FutureWarning: Dropping invalid columns in DataFrameGroupBy.mean is deprecated. In a future version, a TypeError will be raised. Before calling .mean, select only columns which should be valid for the function.\n",
      "  time_averaged_df = pd.DataFrame(eBOSC['detected'].groupby(['trial', 'frequency']).mean(numeric_only=False)).reset_index().drop(columns=['time'])\n",
      "/hpc/users/qasims01/resources/LFPAnalysis/LFPAnalysis/oscillation_utils.py:1284: FutureWarning: Dropping invalid columns in DataFrameGroupBy.mean is deprecated. In a future version, a TypeError will be raised. Before calling .mean, select only columns which should be valid for the function.\n",
      "  time_averaged_df = pd.DataFrame(eBOSC['detected'].groupby(['trial', 'frequency']).mean(numeric_only=False)).reset_index().drop(columns=['time'])\n",
      "/hpc/users/qasims01/resources/LFPAnalysis/LFPAnalysis/oscillation_utils.py:1292: FutureWarning: Dropping invalid columns in DataFrameGroupBy.mean is deprecated. In a future version, a TypeError will be raised. Before calling .mean, select only columns which should be valid for the function.\n",
      "  time_resolved_df = eBOSC['detected'].groupby(['trial', 'fband', 'time']).mean(numeric_only=False).reset_index().drop(columns=['frequency'])\n",
      "/hpc/users/qasims01/resources/LFPAnalysis/LFPAnalysis/oscillation_utils.py:1292: FutureWarning: Dropping invalid columns in DataFrameGroupBy.mean is deprecated. In a future version, a TypeError will be raised. Before calling .mean, select only columns which should be valid for the function.\n",
      "  time_resolved_df = eBOSC['detected'].groupby(['trial', 'fband', 'time']).mean(numeric_only=False).reset_index().drop(columns=['frequency'])\n",
      "/hpc/users/qasims01/resources/LFPAnalysis/LFPAnalysis/oscillation_utils.py:1292: FutureWarning: Dropping invalid columns in DataFrameGroupBy.mean is deprecated. In a future version, a TypeError will be raised. Before calling .mean, select only columns which should be valid for the function.\n",
      "  time_resolved_df = eBOSC['detected'].groupby(['trial', 'fband', 'time']).mean(numeric_only=False).reset_index().drop(columns=['frequency'])\n",
      "/hpc/users/qasims01/resources/LFPAnalysis/LFPAnalysis/oscillation_utils.py:1292: FutureWarning: Dropping invalid columns in DataFrameGroupBy.mean is deprecated. In a future version, a TypeError will be raised. Before calling .mean, select only columns which should be valid for the function.\n",
      "  time_resolved_df = eBOSC['detected'].groupby(['trial', 'fband', 'time']).mean(numeric_only=False).reset_index().drop(columns=['frequency'])\n",
      "/hpc/users/qasims01/resources/LFPAnalysis/LFPAnalysis/oscillation_utils.py:1292: FutureWarning: Dropping invalid columns in DataFrameGroupBy.mean is deprecated. In a future version, a TypeError will be raised. Before calling .mean, select only columns which should be valid for the function.\n",
      "  time_resolved_df = eBOSC['detected'].groupby(['trial', 'fband', 'time']).mean(numeric_only=False).reset_index().drop(columns=['frequency'])\n",
      "/hpc/users/qasims01/resources/LFPAnalysis/LFPAnalysis/oscillation_utils.py:1292: FutureWarning: Dropping invalid columns in DataFrameGroupBy.mean is deprecated. In a future version, a TypeError will be raised. Before calling .mean, select only columns which should be valid for the function.\n",
      "  time_resolved_df = eBOSC['detected'].groupby(['trial', 'fband', 'time']).mean(numeric_only=False).reset_index().drop(columns=['frequency'])\n",
      "/hpc/users/qasims01/resources/LFPAnalysis/LFPAnalysis/oscillation_utils.py:1292: FutureWarning: Dropping invalid columns in DataFrameGroupBy.mean is deprecated. In a future version, a TypeError will be raised. Before calling .mean, select only columns which should be valid for the function.\n",
      "  time_resolved_df = eBOSC['detected'].groupby(['trial', 'fband', 'time']).mean(numeric_only=False).reset_index().drop(columns=['frequency'])\n",
      "/hpc/users/qasims01/resources/LFPAnalysis/LFPAnalysis/oscillation_utils.py:1292: FutureWarning: Dropping invalid columns in DataFrameGroupBy.mean is deprecated. In a future version, a TypeError will be raised. Before calling .mean, select only columns which should be valid for the function.\n",
      "  time_resolved_df = eBOSC['detected'].groupby(['trial', 'fband', 'time']).mean(numeric_only=False).reset_index().drop(columns=['frequency'])\n",
      "/hpc/users/qasims01/resources/LFPAnalysis/LFPAnalysis/oscillation_utils.py:1284: FutureWarning: Dropping invalid columns in DataFrameGroupBy.mean is deprecated. In a future version, a TypeError will be raised. Before calling .mean, select only columns which should be valid for the function.\n",
      "  time_averaged_df = pd.DataFrame(eBOSC['detected'].groupby(['trial', 'frequency']).mean(numeric_only=False)).reset_index().drop(columns=['time'])\n",
      "/hpc/users/qasims01/resources/LFPAnalysis/LFPAnalysis/oscillation_utils.py:1284: FutureWarning: Dropping invalid columns in DataFrameGroupBy.mean is deprecated. In a future version, a TypeError will be raised. Before calling .mean, select only columns which should be valid for the function.\n",
      "  time_averaged_df = pd.DataFrame(eBOSC['detected'].groupby(['trial', 'frequency']).mean(numeric_only=False)).reset_index().drop(columns=['time'])\n",
      "/hpc/users/qasims01/resources/LFPAnalysis/LFPAnalysis/oscillation_utils.py:1292: FutureWarning: Dropping invalid columns in DataFrameGroupBy.mean is deprecated. In a future version, a TypeError will be raised. Before calling .mean, select only columns which should be valid for the function.\n",
      "  time_resolved_df = eBOSC['detected'].groupby(['trial', 'fband', 'time']).mean(numeric_only=False).reset_index().drop(columns=['frequency'])\n",
      "/hpc/users/qasims01/resources/LFPAnalysis/LFPAnalysis/oscillation_utils.py:1292: FutureWarning: Dropping invalid columns in DataFrameGroupBy.mean is deprecated. In a future version, a TypeError will be raised. Before calling .mean, select only columns which should be valid for the function.\n",
      "  time_resolved_df = eBOSC['detected'].groupby(['trial', 'fband', 'time']).mean(numeric_only=False).reset_index().drop(columns=['frequency'])\n",
      "Process LokyProcess-43:\n",
      "Process LokyProcess-41:\n",
      "Process LokyProcess-38:\n",
      "Process LokyProcess-42:\n",
      "Process LokyProcess-39:\n",
      "Process LokyProcess-37:\n",
      "Process LokyProcess-36:\n",
      "Process LokyProcess-40:\n",
      "Traceback (most recent call last):\n",
      "Traceback (most recent call last):\n",
      "Traceback (most recent call last):\n",
      "Traceback (most recent call last):\n",
      "  File \"/sc/arion/work/qasims01/test-env/envs/LFPAnalysis/lib/python3.10/multiprocessing/process.py\", line 314, in _bootstrap\n",
      "    self.run()\n",
      "  File \"/sc/arion/work/qasims01/test-env/envs/LFPAnalysis/lib/python3.10/multiprocessing/process.py\", line 314, in _bootstrap\n",
      "    self.run()\n",
      "  File \"/sc/arion/work/qasims01/test-env/envs/LFPAnalysis/lib/python3.10/multiprocessing/process.py\", line 108, in run\n",
      "    self._target(*self._args, **self._kwargs)\n",
      "  File \"/sc/arion/work/qasims01/test-env/envs/LFPAnalysis/lib/python3.10/multiprocessing/process.py\", line 108, in run\n",
      "    self._target(*self._args, **self._kwargs)\n",
      "  File \"/sc/arion/work/qasims01/test-env/envs/LFPAnalysis/lib/python3.10/site-packages/joblib/externals/loky/process_executor.py\", line 466, in _process_worker\n",
      "    with worker_exit_lock:\n",
      "Traceback (most recent call last):\n",
      "  File \"/sc/arion/work/qasims01/test-env/envs/LFPAnalysis/lib/python3.10/site-packages/joblib/externals/loky/process_executor.py\", line 466, in _process_worker\n",
      "    with worker_exit_lock:\n",
      "  File \"/sc/arion/work/qasims01/test-env/envs/LFPAnalysis/lib/python3.10/site-packages/joblib/externals/loky/backend/synchronize.py\", line 112, in __enter__\n",
      "    return self._semlock.acquire()\n",
      "  File \"/sc/arion/work/qasims01/test-env/envs/LFPAnalysis/lib/python3.10/site-packages/joblib/externals/loky/backend/synchronize.py\", line 112, in __enter__\n",
      "    return self._semlock.acquire()\n",
      "  File \"/sc/arion/work/qasims01/test-env/envs/LFPAnalysis/lib/python3.10/multiprocessing/process.py\", line 314, in _bootstrap\n",
      "    self.run()\n",
      "  File \"/sc/arion/work/qasims01/test-env/envs/LFPAnalysis/lib/python3.10/multiprocessing/process.py\", line 108, in run\n",
      "    self._target(*self._args, **self._kwargs)\n",
      "KeyboardInterrupt\n",
      "  File \"/sc/arion/work/qasims01/test-env/envs/LFPAnalysis/lib/python3.10/multiprocessing/process.py\", line 314, in _bootstrap\n",
      "    self.run()\n",
      "  File \"/sc/arion/work/qasims01/test-env/envs/LFPAnalysis/lib/python3.10/site-packages/joblib/externals/loky/process_executor.py\", line 466, in _process_worker\n",
      "    with worker_exit_lock:\n",
      "  File \"/sc/arion/work/qasims01/test-env/envs/LFPAnalysis/lib/python3.10/multiprocessing/process.py\", line 108, in run\n",
      "    self._target(*self._args, **self._kwargs)\n",
      "KeyboardInterrupt\n",
      "  File \"/sc/arion/work/qasims01/test-env/envs/LFPAnalysis/lib/python3.10/site-packages/joblib/externals/loky/backend/synchronize.py\", line 112, in __enter__\n",
      "    return self._semlock.acquire()\n",
      "  File \"/sc/arion/work/qasims01/test-env/envs/LFPAnalysis/lib/python3.10/site-packages/joblib/externals/loky/process_executor.py\", line 466, in _process_worker\n",
      "    with worker_exit_lock:\n",
      "  File \"/sc/arion/work/qasims01/test-env/envs/LFPAnalysis/lib/python3.10/site-packages/joblib/externals/loky/backend/synchronize.py\", line 112, in __enter__\n",
      "    return self._semlock.acquire()\n",
      "  File \"/sc/arion/work/qasims01/test-env/envs/LFPAnalysis/lib/python3.10/multiprocessing/process.py\", line 314, in _bootstrap\n",
      "    self.run()\n",
      "Traceback (most recent call last):\n",
      "  File \"/sc/arion/work/qasims01/test-env/envs/LFPAnalysis/lib/python3.10/multiprocessing/process.py\", line 108, in run\n",
      "    self._target(*self._args, **self._kwargs)\n",
      "KeyboardInterrupt\n",
      "  File \"/sc/arion/work/qasims01/test-env/envs/LFPAnalysis/lib/python3.10/site-packages/joblib/externals/loky/process_executor.py\", line 466, in _process_worker\n",
      "    with worker_exit_lock:\n",
      "KeyboardInterrupt\n",
      "  File \"/sc/arion/work/qasims01/test-env/envs/LFPAnalysis/lib/python3.10/site-packages/joblib/externals/loky/backend/synchronize.py\", line 112, in __enter__\n",
      "    return self._semlock.acquire()\n",
      "KeyboardInterrupt\n",
      "  File \"/sc/arion/work/qasims01/test-env/envs/LFPAnalysis/lib/python3.10/multiprocessing/process.py\", line 314, in _bootstrap\n",
      "    self.run()\n",
      "  File \"/sc/arion/work/qasims01/test-env/envs/LFPAnalysis/lib/python3.10/multiprocessing/process.py\", line 108, in run\n",
      "    self._target(*self._args, **self._kwargs)\n",
      "  File \"/sc/arion/work/qasims01/test-env/envs/LFPAnalysis/lib/python3.10/site-packages/joblib/externals/loky/process_executor.py\", line 466, in _process_worker\n",
      "    with worker_exit_lock:\n",
      "  File \"/sc/arion/work/qasims01/test-env/envs/LFPAnalysis/lib/python3.10/site-packages/joblib/externals/loky/backend/synchronize.py\", line 112, in __enter__\n",
      "    return self._semlock.acquire()\n",
      "Traceback (most recent call last):\n",
      "KeyboardInterrupt\n",
      "  File \"/sc/arion/work/qasims01/test-env/envs/LFPAnalysis/lib/python3.10/multiprocessing/process.py\", line 314, in _bootstrap\n",
      "    self.run()\n",
      "  File \"/sc/arion/work/qasims01/test-env/envs/LFPAnalysis/lib/python3.10/multiprocessing/process.py\", line 108, in run\n",
      "    self._target(*self._args, **self._kwargs)\n",
      "  File \"/sc/arion/work/qasims01/test-env/envs/LFPAnalysis/lib/python3.10/site-packages/joblib/externals/loky/process_executor.py\", line 466, in _process_worker\n",
      "    with worker_exit_lock:\n",
      "  File \"/sc/arion/work/qasims01/test-env/envs/LFPAnalysis/lib/python3.10/site-packages/joblib/externals/loky/backend/synchronize.py\", line 112, in __enter__\n",
      "    return self._semlock.acquire()\n",
      "KeyboardInterrupt\n",
      "Traceback (most recent call last):\n",
      "  File \"/sc/arion/work/qasims01/test-env/envs/LFPAnalysis/lib/python3.10/multiprocessing/process.py\", line 314, in _bootstrap\n",
      "    self.run()\n",
      "  File \"/sc/arion/work/qasims01/test-env/envs/LFPAnalysis/lib/python3.10/multiprocessing/process.py\", line 108, in run\n",
      "    self._target(*self._args, **self._kwargs)\n",
      "  File \"/sc/arion/work/qasims01/test-env/envs/LFPAnalysis/lib/python3.10/site-packages/joblib/externals/loky/process_executor.py\", line 466, in _process_worker\n",
      "    with worker_exit_lock:\n",
      "  File \"/sc/arion/work/qasims01/test-env/envs/LFPAnalysis/lib/python3.10/site-packages/joblib/externals/loky/backend/synchronize.py\", line 112, in __enter__\n",
      "    return self._semlock.acquire()\n",
      "KeyboardInterrupt\n",
      "Computing eBOSC:   0%|          | 0/1 [01:04<?, ?it/s]\n"
     ]
    },
    {
     "name": "stdout",
     "output_type": "stream",
     "text": [
      "Channel: racas8-racas9; Nr. 1/1\n",
      "NOT removing frequency peaks from the background\n",
      "Channel: rals1-rals2; Nr. 1/1\n",
      "NOT removing frequency peaks from the background\n",
      "Channel: rals11-rals12; Nr. 1/1\n",
      "NOT removing frequency peaks from the background\n",
      "Channel: racas4-racas5; Nr. 1/1\n",
      "NOT removing frequency peaks from the background\n",
      "Channel: raglt5-raglt6; Nr. 1/1\n",
      "NOT removing frequency peaks from the background\n",
      "Channel: rals3-rals4; Nr. 1/1\n",
      "NOT removing frequency peaks from the background\n",
      "Channel: racas1-racas2; Nr. 1/1\n",
      "NOT removing frequency peaks from the background\n",
      "Channel: raglt2-raglt3; Nr. 1/1\n",
      "NOT removing frequency peaks from the background\n",
      "Channel: rals9-rals10; Nr. 1/1\n",
      "NOT removing frequency peaks from the background\n",
      "Channel: racas2-racas3; Nr. 1/1\n",
      "NOT removing frequency peaks from the background\n",
      "Channel: raglt6-raglt7; Nr. 1/1\n",
      "NOT removing frequency peaks from the background\n",
      "Channel: rals8-rals9; Nr. 1/1\n",
      "NOT removing frequency peaks from the background\n",
      "Channel: racas6-racas7; Nr. 1/1\n",
      "NOT removing frequency peaks from the background\n",
      "Channel: raglt3-raglt4; Nr. 1/1\n",
      "NOT removing frequency peaks from the background\n",
      "Channel: rals4-rals5; Nr. 1/1\n",
      "NOT removing frequency peaks from the background\n",
      "Channel: racas7-racas8; Nr. 1/1\n",
      "NOT removing frequency peaks from the background\n",
      "Channel: raglt7-raglt8; Nr. 1/1\n",
      "NOT removing frequency peaks from the background\n",
      "Channel: rals10-rals11; Nr. 1/1\n",
      "NOT removing frequency peaks from the background\n",
      "Channel: racas3-racas4; Nr. 1/1\n",
      "NOT removing frequency peaks from the background\n",
      "Channel: raglt4-raglt5; Nr. 1/1\n",
      "NOT removing frequency peaks from the background\n",
      "Channel: rals6-rals7; Nr. 1/1\n",
      "NOT removing frequency peaks from the background\n",
      "Channel: racas5-racas6; Nr. 1/1\n",
      "NOT removing frequency peaks from the background\n",
      "Channel: raglt9-raglt10; Nr. 1/1\n",
      "NOT removing frequency peaks from the background\n",
      "Channel: rals7-rals8; Nr. 1/1\n",
      "NOT removing frequency peaks from the background\n"
     ]
    },
    {
     "name": "stderr",
     "output_type": "stream",
     "text": [
      "\n",
      "KeyboardInterrupt\n",
      "\n"
     ]
    }
   ],
   "source": [
    "ev_dict = {'feedback_start': [0, 1.5]}\n",
    "\n",
    "# Define peak_width, peak_height, peak_threshold, max_n_peaks\n",
    "FOOOF_kwargs = {'peak_width_limits': [1, 8], \n",
    "               'min_peak_height': 0.1,\n",
    "                'peak_threshold': 1.,\n",
    "                'max_n_peaks': 3,\n",
    "               'freq_range': [1, 30]}\n",
    " \n",
    "# Define our frequency bands of interest\n",
    "band_dict = {'delta' : [1, 4],\n",
    "               'theta' : [4, 8],\n",
    "               'alpha' : [8, 13],\n",
    "               'beta' : [13, 30]}\n",
    "\n",
    "conditions = ['reward==0',\n",
    "             'reward==1']\n",
    "\n",
    "progress_bar = tqdm(subj_ids[0:1], ascii=True, desc='Computing eBOSC')\n",
    "\n",
    "for subj_id in progress_bar:\n",
    "    # Load one person's data \n",
    "    for day in ['Day1']:\n",
    "        load_path = f'{base_dir}/projects/guLab/Salman/EphysAnalyses/{subj_id}/neural/{day}'\n",
    "        for event in ev_dict.keys():   \n",
    "            filepath = f'{base_dir}/projects/guLab/Salman/EphysAnalyses/{subj_id}/scratch/eBOSC/{event}'\n",
    "            if not os.path.exists(f'{filepath}/plots'):\n",
    "                os.makedirs(f'{filepath}/plots')\n",
    "            if not os.path.exists(f'{filepath}/dfs'):\n",
    "                os.makedirs(f'{filepath}/dfs')\n",
    "\n",
    "            mne_data_reref = mne.read_epochs(f'{load_path}/{event}-epo.fif', preload=True)\n",
    "            mne_data_reref.metadata = learn_df[learn_df.participant==subj_id]\n",
    "\n",
    "            save_path = f'{base_dir}/projects/guLab/Salman/EphysAnalyses/{subj_id}'\n",
    "            chan_name = elec_df.label.unique()[0]\n",
    "            # oscillation_utils.compute_eBOSC_parallel(chan_name, mne_data_reref, subj_id, elec_df, 'feedback_start', ev_dict, conditions, \n",
    "            #                do_plot=True, save_path='/sc/arion/projects/guLab/Salman/EphysAnalyses', \n",
    "            #                do_save=True, both_dfs=True, **cfg_eBOSC)\n",
    "            \n",
    "            Parallel(n_jobs=-1, verbose=1)(delayed(oscillation_utils.compute_eBOSC_parallel)(chan_name, \n",
    "                                                                                             mne_data_reref, \n",
    "                                                                                             subj_id, \n",
    "                                                                                             elec_df, \n",
    "                                                                                             'feedback_start', \n",
    "                                                                                             ev_dict, \n",
    "                                                                                             conditions, \n",
    "                                                                                             do_plot=True, \n",
    "                                                                                             save_path='/sc/arion/projects/guLab/Salman/EphysAnalyses', \n",
    "                                                                                             do_save=True,\n",
    "                                                                                             both_dfs=True,\n",
    "                                                                                             **cfg_eBOSC) for chan_name in mne_data_reref.ch_names)\n",
    "\n"
   ]
  },
  {
   "cell_type": "code",
   "execution_count": null,
   "id": "449bf72d-766a-4340-a650-0baf6c3b913e",
   "metadata": {},
   "outputs": [],
   "source": []
  }
 ],
 "metadata": {
  "kernelspec": {
   "display_name": "lfp_analysis",
   "language": "python",
   "name": "lfpanalysis"
  },
  "language_info": {
   "codemirror_mode": {
    "name": "ipython",
    "version": 3
   },
   "file_extension": ".py",
   "mimetype": "text/x-python",
   "name": "python",
   "nbconvert_exporter": "python",
   "pygments_lexer": "ipython3",
   "version": "3.10.8"
  }
 },
 "nbformat": 4,
 "nbformat_minor": 5
}
