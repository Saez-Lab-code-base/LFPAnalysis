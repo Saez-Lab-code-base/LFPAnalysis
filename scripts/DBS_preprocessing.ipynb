{
 "cells": [
  {
   "cell_type": "markdown",
   "metadata": {},
   "source": [
    "# Preprocessing\n",
    "\n",
    "Load DBS all channal data   \n",
    "Bipolar referencing   \n",
    "High pass filter    "
   ]
  },
  {
   "cell_type": "markdown",
   "metadata": {},
   "source": []
  },
  {
   "cell_type": "code",
   "execution_count": 1,
   "metadata": {},
   "outputs": [],
   "source": [
    "import scipy\n",
    "import numpy as np\n",
    "import glob\n",
    "import seaborn as sns\n",
    "import matplotlib.pyplot as plt\n",
    "import pandas as pd\n",
    "\n",
    "#Analysis\n",
    "from scipy import signal\n",
    "from neurodsp.spectral import compute_spectrum"
   ]
  },
  {
   "cell_type": "code",
   "execution_count": 2,
   "metadata": {},
   "outputs": [],
   "source": [
    "# Specify root directory for un-archived data and results \n",
    "base_dir = '/Users/fuq01' \n",
    "# Specify subject names \n",
    "subj_ids = ['701','702','705','814','815']\n",
    "\n",
    "mat_dict = {f'{x}': [] for x in subj_ids}\n",
    "elec_dict = {f'{x}': [] for x in subj_ids}"
   ]
  }
 ],
 "metadata": {
  "kernelspec": {
   "display_name": "LFPAnalysis_20231017",
   "language": "python",
   "name": "python3"
  },
  "language_info": {
   "codemirror_mode": {
    "name": "ipython",
    "version": 3
   },
   "file_extension": ".py",
   "mimetype": "text/x-python",
   "name": "python",
   "nbconvert_exporter": "python",
   "pygments_lexer": "ipython3",
   "version": "3.11.0"
  }
 },
 "nbformat": 4,
 "nbformat_minor": 2
}
