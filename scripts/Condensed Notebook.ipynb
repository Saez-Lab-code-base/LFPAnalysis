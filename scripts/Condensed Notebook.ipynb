{
 "cells": [
  {
   "cell_type": "markdown",
   "id": "3b0d5897",
   "metadata": {},
   "source": [
    "In this notebook, I aim to roll through an analysis across multiple patients. "
   ]
  },
  {
   "cell_type": "code",
   "execution_count": null,
   "id": "2fa7b176",
   "metadata": {},
   "outputs": [],
   "source": []
  }
 ],
 "metadata": {
  "kernelspec": {
   "display_name": "lfp_analysis",
   "language": "python",
   "name": "lfpanalysis"
  },
  "language_info": {
   "codemirror_mode": {
    "name": "ipython",
    "version": 3
   },
   "file_extension": ".py",
   "mimetype": "text/x-python",
   "name": "python",
   "nbconvert_exporter": "python",
   "pygments_lexer": "ipython3",
   "version": "3.11.0"
  }
 },
 "nbformat": 4,
 "nbformat_minor": 5
}
