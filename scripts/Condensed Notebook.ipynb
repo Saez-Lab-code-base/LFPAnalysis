{
 "cells": [
  {
   "cell_type": "markdown",
   "id": "4a1019c2",
   "metadata": {},
   "source": [
    "In this notebook, I aim to roll through an analysis across a few patients which can easily be extended for all of the  patients in your cohort. To do so, we will use the pre-processing functions that are written out more explicitly in the step-by-step notebooks. \n",
    "\n",
    "**This is the notebook you should copy and edit for your own actual analyses**\n",
    "\n",
    "======================================================================================================================"
   ]
  },
  {
   "cell_type": "markdown",
   "id": "e5720f96",
   "metadata": {},
   "source": [
    "These are magics that provide certain functionality. Specifically, if you edit functions that are called in this notebook, the functions are reloaded so the changes propagate here without needing to reload the notebook.\n"
   ]
  },
  {
   "cell_type": "code",
   "execution_count": 1,
   "id": "81b857e6",
   "metadata": {},
   "outputs": [],
   "source": [
    "%matplotlib inline\n",
    "%reload_ext autoreload\n",
    "%autoreload 2"
   ]
  },
  {
   "cell_type": "code",
   "execution_count": 2,
   "id": "903fdada",
   "metadata": {},
   "outputs": [],
   "source": [
    "import numpy as np\n",
    "import mne\n",
    "from glob import glob\n",
    "import matplotlib.pyplot as plt\n",
    "from matplotlib.backends.backend_pdf import PdfPages\n",
    "import seaborn as sns\n",
    "from scipy.stats import zscore, linregress, ttest_ind, ttest_rel, ttest_1samp\n",
    "import pandas as pd\n",
    "from mne.preprocessing.bads import _find_outliers\n",
    "import os \n",
    "import joblib\n",
    "import pickle\n",
    "from tqdm import tqdm\n",
    "from IPython.display import clear_output\n",
    "import warnings \n",
    "\n",
    "# I only want to see warnings once\n",
    "warnings.filterwarnings('ignore')"
   ]
  },
  {
   "cell_type": "markdown",
   "id": "11cd439a",
   "metadata": {},
   "source": [
    "Note: If you have installed the LFPAnalysis package in editable form on Minerva, you must append the local path! This is because Minerva requires that you point your package installs away from the local directory for space reasons, but editable packages have to be installed locally."
   ]
  },
  {
   "cell_type": "code",
   "execution_count": 3,
   "id": "10b3889b",
   "metadata": {},
   "outputs": [],
   "source": [
    "import sys\n",
    "sys.path.append('/hpc/users/qasims01/resources/LFPAnalysis')"
   ]
  },
  {
   "cell_type": "code",
   "execution_count": 4,
   "id": "7b549c60",
   "metadata": {},
   "outputs": [],
   "source": [
    "from LFPAnalysis import lfp_preprocess_utils, sync_utils, analysis_utils, nlx_utils"
   ]
  },
  {
   "cell_type": "markdown",
   "id": "d0445cfb",
   "metadata": {},
   "source": [
    "## DEPRECATED: Load, pre-process and re-reference the neural data"
   ]
  },
  {
   "cell_type": "markdown",
   "id": "aeb9167e",
   "metadata": {},
   "source": [
    "Substitute your own patients in the following cell: "
   ]
  },
  {
   "cell_type": "code",
   "execution_count": 5,
   "id": "36590691",
   "metadata": {},
   "outputs": [],
   "source": [
    "# # Specify root directory for un-archived data and results \n",
    "# base_dir = '/sc/arion' \n",
    "# # Specify subject names \n",
    "# subj_ids = ['MS012', 'MS016']\n",
    "# subj_sites = ['MSSM', 'MSSM']\n",
    "# # Specify the format being loaded. Probably smart to put subjects and their format in a dataframe. \n",
    "# subj_formats = ['edf', 'edf']\n",
    "# elec_dict = {f'{x}': [] for x in subj_ids}\n",
    "# mne_dict = {f'{x}': [] for x in subj_ids}\n",
    "# photodiode_dict = {f'{x}': [] for x in subj_ids}"
   ]
  },
  {
   "cell_type": "markdown",
   "id": "08ae1c39",
   "metadata": {},
   "source": [
    "## DEPRECATED: Pre-process (run 1x): "
   ]
  },
  {
   "cell_type": "markdown",
   "id": "82f0c76f",
   "metadata": {},
   "source": [
    "In the pre-processing functions below, we: \n",
    "\n",
    "1. load the raw data (either a .edf file or a folder of .nlx files) into mne objects for use with the mne toolbox: https://mne.tools/stable/index.html.\n",
    "\n",
    "2. load the localized electrode names from the .csv or .xlsx file listing their MNI coordinates into the mne object\n",
    "\n",
    "3. filter and resample as necessary\n",
    "\n",
    "4. re-reference to a proximal white matter electrode (or bipolar, if desired) "
   ]
  },
  {
   "cell_type": "code",
   "execution_count": 6,
   "id": "d83f681a",
   "metadata": {
    "scrolled": true,
    "tags": []
   },
   "outputs": [],
   "source": [
    "# for ix, subj_id in enumerate(subj_ids): \n",
    "#     site = subj_sites[ix]\n",
    "#     format = subj_formats[ix]\n",
    "    \n",
    "#     print(f'Working on subj {subj_id}')\n",
    "    \n",
    "#     # Set paths\n",
    "#     load_path = f'{base_dir}/projects/guLab/Salman/EMU/{subj_id}/neural/Day1'\n",
    "#     elec_path = f'{base_dir}/projects/guLab/Salman/EMU/{subj_id}/anat/'\n",
    "#     save_path = f'{base_dir}/projects/guLab/Salman/EphysAnalyses/{subj_id}/neural/Day1'\n",
    "    \n",
    "#     # Check if path exists for saving, and if not, make it\n",
    "#     if not os.path.exists(save_path):\n",
    "#         os.makedirs(save_path)\n",
    "\n",
    "#     # electrode files could either be csv or excel\n",
    "#     elec_files = glob(f'{elec_path}/*.csv') + glob(f'{elec_path}/*.xlsx')\n",
    "#     # There should really only be one, so grab it with the zero-index \n",
    "#     elec_file = elec_files[0]\n",
    "\n",
    "#     # Make MNE file\n",
    "#     mne_data = lfp_preprocess_utils.make_mne(load_path=load_path, \n",
    "#                                              elec_path=elec_file,\n",
    "#                                              format=format,\n",
    "#                                              return_data=True,\n",
    "#                                              site=site,\n",
    "#                                              check_bad=False) # changed this to not annotate anything as bad \n",
    "\n",
    "#     # Save this data so that you don't need this step again:\n",
    "#     mne_data.save(f'{save_path}/raw_ieeg.fif', overwrite=True)\n"
   ]
  },
  {
   "cell_type": "markdown",
   "id": "e516aae8-a1ed-4c7c-94db-576f30ed99ae",
   "metadata": {},
   "source": [
    "## DEPRECATED: ~Manually annotate bad channels before re-referencing~"
   ]
  },
  {
   "cell_type": "markdown",
   "id": "9155c0a4-9f1b-40e8-8e31-e4fed1e92bda",
   "metadata": {},
   "source": [
    "~Even though the pipeline automatically detects channels with high variance compared to the rest of the data, it can still be very useful to scroll through the data and manually click on channels that are bad (or click on automatically bad channels that are,in fact, not bad).~\n",
    "\n",
    "~Feel free to be liberal with this. Bad channels are not omitted from analysis; they are simply omitted from being used as references, so they don't spread the 'badness' to other channels.~\n"
   ]
  },
  {
   "cell_type": "markdown",
   "id": "6c4f2e66",
   "metadata": {},
   "source": [
    "~We want to identify channels that are CLEARLY artifactual. I say CLEARLY because there are some noisy channels that will clear up with re-referencing. We want to pick channels here only if they are clear outliers that should not be USED as references for any other channels - this would simply spread their noise around.~\" \n",
    "\n",
    "Note: Viewing/scrolling/editing these channels requires Jupyter NOTEBOOK - won't work in JupyterLab. "
   ]
  },
  {
   "cell_type": "code",
   "execution_count": 7,
   "id": "a72c0b69",
   "metadata": {},
   "outputs": [],
   "source": [
    "# %matplotlib notebook \n",
    "# # Note: this does not work in JupyterLAB."
   ]
  },
  {
   "cell_type": "code",
   "execution_count": 8,
   "id": "d3255787",
   "metadata": {},
   "outputs": [],
   "source": [
    "# # Scroll up/down and left/right using your keyboard. CLICK on a channel to turn it 'grey' and mark as a 'bad' channel. \n",
    "# # If you click a grey channel again it will unmark it. \n",
    "\n",
    "# subj_id = 'MS012'\n",
    "# save_path = f'{base_dir}/work/qasims01/MemoryBanditData/EMU/Subjects/{subj_id}/neural/Day1'\n",
    "# mne_data = mne.io.read_raw_fif(f'{save_path}/raw_ieeg.fif', preload=True)\n",
    "# fig = mne_data.plot(start=0, duration=120, n_channels=30, \n",
    "#                       scalings=mne_data._data.max()/30\n",
    "#                      )"
   ]
  },
  {
   "cell_type": "code",
   "execution_count": 9,
   "id": "ae772702",
   "metadata": {},
   "outputs": [],
   "source": [
    "# # Save this manual data\n",
    "# mne_data.save(f'{save_path}/raw_ieeg.fif', overwrite=True)"
   ]
  },
  {
   "cell_type": "markdown",
   "id": "9835543d",
   "metadata": {},
   "source": [
    "## Re-reference the data (default=bipolar): "
   ]
  },
  {
   "cell_type": "markdown",
   "id": "6f462f2e-2a28-47c3-bce4-6e064ec4f1c0",
   "metadata": {},
   "source": [
    "We re-reference the data to get rid of shared noise, cleaning the data to leave what we assume is local biological activity. "
   ]
  },
  {
   "cell_type": "code",
   "execution_count": 21,
   "id": "3958acf5",
   "metadata": {},
   "outputs": [
    {
     "name": "stdout",
     "output_type": "stream",
     "text": [
      "Opening raw data file /hpc/users/qasims01/resources/LFPAnalysis/data/sample_ieeg.fif...\n",
      "Isotrak not found\n",
      "    Range : 0 ... 394061 =      0.000 ...   788.122 secs\n",
      "Ready.\n",
      "Reading 0 ... 394061  =      0.000 ...   788.122 secs...\n",
      "sEEG channel type selected for re-referencing\n",
      "Creating RawArray with float64 data, n_channels=15, n_times=394062\n",
      "    Range : 0 ... 394061 =      0.000 ...   788.122 secs\n",
      "Ready.\n",
      "Added the following bipolar channels:\n",
      "racas1-racas2, racas2-racas3, racas3-racas4, racas4-racas5, racas5-racas6, racas6-racas7, racas8-racas9, racas9-racas10, rmolf1-rmolf2, rmolf2-rmolf3, rmolf3-rmolf4, rmolf4-rmolf5, rmolf5-rmolf6, rmolf9-rmolf10, rmolf10-rmolf11\n",
      "Overwriting existing file.\n",
      "Writing /hpc/users/qasims01/resources/LFPAnalysis/data/bp_ref_ieeg.fif\n",
      "Closing /hpc/users/qasims01/resources/LFPAnalysis/data/bp_ref_ieeg.fif\n",
      "[done]\n",
      "/hpc/users/qasims01/resources/LFPAnalysis/LFPAnalysis/../data/YBA_ROI_labelled.xlsx\n",
      "/hpc/users/qasims01/resources/LFPAnalysis/LFPAnalysis/../data/YBA_ROI_labelled.xlsx\n",
      "/hpc/users/qasims01/resources/LFPAnalysis/LFPAnalysis/../data/YBA_ROI_labelled.xlsx\n",
      "/hpc/users/qasims01/resources/LFPAnalysis/LFPAnalysis/../data/YBA_ROI_labelled.xlsx\n",
      "/hpc/users/qasims01/resources/LFPAnalysis/LFPAnalysis/../data/YBA_ROI_labelled.xlsx\n",
      "/hpc/users/qasims01/resources/LFPAnalysis/LFPAnalysis/../data/YBA_ROI_labelled.xlsx\n",
      "/hpc/users/qasims01/resources/LFPAnalysis/LFPAnalysis/../data/YBA_ROI_labelled.xlsx\n",
      "/hpc/users/qasims01/resources/LFPAnalysis/LFPAnalysis/../data/YBA_ROI_labelled.xlsx\n",
      "/hpc/users/qasims01/resources/LFPAnalysis/LFPAnalysis/../data/YBA_ROI_labelled.xlsx\n",
      "/hpc/users/qasims01/resources/LFPAnalysis/LFPAnalysis/../data/YBA_ROI_labelled.xlsx\n",
      "/hpc/users/qasims01/resources/LFPAnalysis/LFPAnalysis/../data/YBA_ROI_labelled.xlsx\n",
      "/hpc/users/qasims01/resources/LFPAnalysis/LFPAnalysis/../data/YBA_ROI_labelled.xlsx\n",
      "/hpc/users/qasims01/resources/LFPAnalysis/LFPAnalysis/../data/YBA_ROI_labelled.xlsx\n",
      "/hpc/users/qasims01/resources/LFPAnalysis/LFPAnalysis/../data/YBA_ROI_labelled.xlsx\n",
      "/hpc/users/qasims01/resources/LFPAnalysis/LFPAnalysis/../data/YBA_ROI_labelled.xlsx\n"
     ]
    }
   ],
   "source": [
    "# for ix, subj_id in enumerate(subj_ids): \n",
    "site = 'MSSM'\n",
    "format = 'edf'\n",
    "    \n",
    "load_path = '/hpc/users/qasims01/resources/LFPAnalysis/data'\n",
    "# Set paths\n",
    "# load_path = f'{base_dir}/projects/guLab/Salman/EMU/{subj_id}/neural/Day1'\n",
    "# elec_path = f'{base_dir}/projects/guLab/Salman/EMU/{subj_id}/anat/'\n",
    "# save_path = f'{base_dir}/projects/guLab/Salman/EphysAnalyses/{subj_id}/neural/Day1'\n",
    "# # Check if path exists for saving, and if not, make it\n",
    "# if not os.path.exists(save_path):\n",
    "#     os.makedirs(save_path)\n",
    "\n",
    "# electrode files could either be csv or excel\n",
    "# elec_files = glob(f'{elec_path}/*.csv') + glob(f'{elec_path}/*.xlsx')\n",
    "# There should really only be one, so grab it with the zero-index \n",
    "# elec_file = elec_files[0]\n",
    "elec_file = f'{load_path}/sample_labels.xlsx'\n",
    "\n",
    "# Make MNE file\n",
    "mne_data = mne.io.read_raw_fif(f'{load_path}/sample_ieeg.fif', preload=True)\n",
    "\n",
    "\n",
    "# Re-reference neural data\n",
    "mne_data_reref = lfp_preprocess_utils.ref_mne(mne_data=mne_data, \n",
    "                                              elec_path=elec_file, \n",
    "                                              method='bipolar', \n",
    "                                              site=site)\n",
    "\n",
    "# Save this data so that you don't need this step again:\n",
    "mne_data_reref.save(f'{load_path}/bp_ref_ieeg.fif', overwrite=True)\n",
    "\n",
    "# Should also save out re-referenced elec_file: \n",
    "\n",
    "elec_data = lfp_preprocess_utils.load_elec(elec_file)\n",
    "anode_list = [x.split('-')[0] for x in mne_data_reref.ch_names]\n",
    "elec_df = elec_data[elec_data.label.str.lower().isin(anode_list)]\n",
    "elec_df['label'] =  elec_df.label.apply(lambda x: [a for a in mne_data_reref.ch_names if str(x).lower() in a.split('-')[0]][0])\n",
    "\n",
    "# add region to the data frame \n",
    "manual_col = [col for col in elec_df.columns if 'manual' in col.lower()][0]\n",
    "all_regions = [] \n",
    "for chan_name in elec_df.label.unique():\n",
    "    elec_region = analysis_utils.select_rois_picks(elec_df, chan_name, manual_col=manual_col)\n",
    "    all_regions.append(elec_region) \n",
    "\n",
    "elec_df['salman_region'] = all_regions\n",
    "elec_df['hemisphere'] = elec_df.label.apply(lambda x: x[0])\n",
    "\n",
    "# elec_df.to_csv(f'{base_dir}/projects/guLab/Salman/EphysAnalyses/{subj_id}/reref_elec_df', index=False)\n",
    "            \n"
   ]
  },
  {
   "cell_type": "code",
   "execution_count": 22,
   "id": "1f39e0c1",
   "metadata": {},
   "outputs": [
    {
     "data": {
      "text/html": [
       "<div>\n",
       "<style scoped>\n",
       "    .dataframe tbody tr th:only-of-type {\n",
       "        vertical-align: middle;\n",
       "    }\n",
       "\n",
       "    .dataframe tbody tr th {\n",
       "        vertical-align: top;\n",
       "    }\n",
       "\n",
       "    .dataframe thead th {\n",
       "        text-align: right;\n",
       "    }\n",
       "</style>\n",
       "<table border=\"1\" class=\"dataframe\">\n",
       "  <thead>\n",
       "    <tr style=\"text-align: right;\">\n",
       "      <th></th>\n",
       "      <th>label</th>\n",
       "      <th>BN246label</th>\n",
       "      <th>x</th>\n",
       "      <th>y</th>\n",
       "      <th>z</th>\n",
       "      <th>mni_x</th>\n",
       "      <th>mni_y</th>\n",
       "      <th>mni_z</th>\n",
       "      <th>gm</th>\n",
       "      <th>NMM</th>\n",
       "      <th>Anat</th>\n",
       "      <th>AnatMacro</th>\n",
       "      <th>BN246</th>\n",
       "      <th>YBA_1</th>\n",
       "      <th>ManualExamination</th>\n",
       "      <th>Notes</th>\n",
       "      <th>salman_region</th>\n",
       "      <th>hemisphere</th>\n",
       "    </tr>\n",
       "  </thead>\n",
       "  <tbody>\n",
       "    <tr>\n",
       "      <th>0</th>\n",
       "      <td>racas1-racas2</td>\n",
       "      <td>A24rv_R</td>\n",
       "      <td>2.213847</td>\n",
       "      <td>40.555422</td>\n",
       "      <td>-7.592365</td>\n",
       "      <td>4.000299</td>\n",
       "      <td>31.589838</td>\n",
       "      <td>-7.086648</td>\n",
       "      <td>Gray</td>\n",
       "      <td>Right ACgG anterior cingulate gyrus</td>\n",
       "      <td>Area s24</td>\n",
       "      <td>R ACC</td>\n",
       "      <td>R CG</td>\n",
       "      <td>Right cingulate gyrus D</td>\n",
       "      <td>NaN</td>\n",
       "      <td>NaN</td>\n",
       "      <td>ACC</td>\n",
       "      <td>r</td>\n",
       "    </tr>\n",
       "    <tr>\n",
       "      <th>2</th>\n",
       "      <td>racas2-racas3</td>\n",
       "      <td>A24rv_R</td>\n",
       "      <td>3.413242</td>\n",
       "      <td>42.153665</td>\n",
       "      <td>-3.596380</td>\n",
       "      <td>5.193647</td>\n",
       "      <td>33.135858</td>\n",
       "      <td>-1.753866</td>\n",
       "      <td>Gray</td>\n",
       "      <td>Right ACgG anterior cingulate gyrus</td>\n",
       "      <td>Area 33</td>\n",
       "      <td>R ACC</td>\n",
       "      <td>R CG</td>\n",
       "      <td>Right cingulate gyrus D</td>\n",
       "      <td>NaN</td>\n",
       "      <td>NaN</td>\n",
       "      <td>ACC</td>\n",
       "      <td>r</td>\n",
       "    </tr>\n",
       "    <tr>\n",
       "      <th>3</th>\n",
       "      <td>racas3-racas4</td>\n",
       "      <td>A24rv_R</td>\n",
       "      <td>4.612636</td>\n",
       "      <td>43.352347</td>\n",
       "      <td>1.198800</td>\n",
       "      <td>6.248130</td>\n",
       "      <td>34.246815</td>\n",
       "      <td>4.546188</td>\n",
       "      <td>Gray</td>\n",
       "      <td>Right ACgG anterior cingulate gyrus</td>\n",
       "      <td>Area 33</td>\n",
       "      <td>R ACC</td>\n",
       "      <td>R CG</td>\n",
       "      <td>Right cingulate gyrus E</td>\n",
       "      <td>NaN</td>\n",
       "      <td>NaN</td>\n",
       "      <td>ACC</td>\n",
       "      <td>r</td>\n",
       "    </tr>\n",
       "    <tr>\n",
       "      <th>4</th>\n",
       "      <td>racas4-racas5</td>\n",
       "      <td>A24rv_R</td>\n",
       "      <td>5.812031</td>\n",
       "      <td>44.950590</td>\n",
       "      <td>5.594383</td>\n",
       "      <td>7.611961</td>\n",
       "      <td>35.782938</td>\n",
       "      <td>10.284493</td>\n",
       "      <td>Gray</td>\n",
       "      <td>Right ACgG anterior cingulate gyrus</td>\n",
       "      <td>Area 33</td>\n",
       "      <td>R ACC</td>\n",
       "      <td>R CG</td>\n",
       "      <td>Right cingulate gyrus F</td>\n",
       "      <td>WM</td>\n",
       "      <td>NaN</td>\n",
       "      <td>Unknown</td>\n",
       "      <td>r</td>\n",
       "    </tr>\n",
       "    <tr>\n",
       "      <th>5</th>\n",
       "      <td>racas5-racas6</td>\n",
       "      <td>A32sg_R</td>\n",
       "      <td>7.011425</td>\n",
       "      <td>46.948394</td>\n",
       "      <td>9.989966</td>\n",
       "      <td>9.046897</td>\n",
       "      <td>37.587455</td>\n",
       "      <td>16.017830</td>\n",
       "      <td>Gray</td>\n",
       "      <td>Right ACgG anterior cingulate gyrus</td>\n",
       "      <td>Unknown</td>\n",
       "      <td>R ACC</td>\n",
       "      <td>R CG</td>\n",
       "      <td>Right cingulate gyrus G</td>\n",
       "      <td>NaN</td>\n",
       "      <td>NaN</td>\n",
       "      <td>ACC</td>\n",
       "      <td>r</td>\n",
       "    </tr>\n",
       "    <tr>\n",
       "      <th>6</th>\n",
       "      <td>racas6-racas7</td>\n",
       "      <td>A9m_R</td>\n",
       "      <td>8.210819</td>\n",
       "      <td>48.546637</td>\n",
       "      <td>13.985950</td>\n",
       "      <td>10.484175</td>\n",
       "      <td>38.904387</td>\n",
       "      <td>21.189590</td>\n",
       "      <td>Gray</td>\n",
       "      <td>Right MSFG superior frontal gyrus medial segment</td>\n",
       "      <td>Unknown</td>\n",
       "      <td>R ACC</td>\n",
       "      <td>R SFG</td>\n",
       "      <td>Right superior frontal gyrus 1 A</td>\n",
       "      <td>NaN</td>\n",
       "      <td>NaN</td>\n",
       "      <td>dmPFC</td>\n",
       "      <td>r</td>\n",
       "    </tr>\n",
       "    <tr>\n",
       "      <th>8</th>\n",
       "      <td>racas8-racas9</td>\n",
       "      <td>Unknown</td>\n",
       "      <td>10.609608</td>\n",
       "      <td>53.341366</td>\n",
       "      <td>22.377517</td>\n",
       "      <td>13.480057</td>\n",
       "      <td>43.196060</td>\n",
       "      <td>32.219264</td>\n",
       "      <td>White</td>\n",
       "      <td>Right Cerebral White Matter</td>\n",
       "      <td>Unknown</td>\n",
       "      <td>R Superior Frontal Gyrus</td>\n",
       "      <td>Unknown</td>\n",
       "      <td>Unknown</td>\n",
       "      <td>WM</td>\n",
       "      <td>NaN</td>\n",
       "      <td>Unknown</td>\n",
       "      <td>r</td>\n",
       "    </tr>\n",
       "    <tr>\n",
       "      <th>9</th>\n",
       "      <td>racas9-racas10</td>\n",
       "      <td>A9l_R</td>\n",
       "      <td>11.409205</td>\n",
       "      <td>55.339170</td>\n",
       "      <td>25.973903</td>\n",
       "      <td>14.334990</td>\n",
       "      <td>44.963552</td>\n",
       "      <td>36.907822</td>\n",
       "      <td>Gray</td>\n",
       "      <td>Right SFG superior frontal gyrus</td>\n",
       "      <td>Unknown</td>\n",
       "      <td>R Superior Frontal Gyrus</td>\n",
       "      <td>R SFG</td>\n",
       "      <td>Right superior frontal gyrus 2 C</td>\n",
       "      <td>NaN</td>\n",
       "      <td>NaN</td>\n",
       "      <td>dmPFC</td>\n",
       "      <td>r</td>\n",
       "    </tr>\n",
       "    <tr>\n",
       "      <th>10</th>\n",
       "      <td>rmolf1-rmolf2</td>\n",
       "      <td>A13_R</td>\n",
       "      <td>7.011425</td>\n",
       "      <td>41.354544</td>\n",
       "      <td>-23.975900</td>\n",
       "      <td>9.794417</td>\n",
       "      <td>33.025859</td>\n",
       "      <td>-27.313912</td>\n",
       "      <td>Gray</td>\n",
       "      <td>Right MOrG medial orbital gyrus</td>\n",
       "      <td>Area Fo1</td>\n",
       "      <td>R Rectal Gyrus</td>\n",
       "      <td>R OrG</td>\n",
       "      <td>Right frontal orbital 4 B</td>\n",
       "      <td>NaN</td>\n",
       "      <td>NaN</td>\n",
       "      <td>OFC</td>\n",
       "      <td>r</td>\n",
       "    </tr>\n",
       "    <tr>\n",
       "      <th>11</th>\n",
       "      <td>rmolf10-rmolf11</td>\n",
       "      <td>IFS_R</td>\n",
       "      <td>42.593461</td>\n",
       "      <td>44.151469</td>\n",
       "      <td>0.799202</td>\n",
       "      <td>48.395887</td>\n",
       "      <td>34.104423</td>\n",
       "      <td>6.673498</td>\n",
       "      <td>Gray</td>\n",
       "      <td>Right TrIFG triangular part of the inferior fr...</td>\n",
       "      <td>Area 45</td>\n",
       "      <td>R IFG (p Triangularis)</td>\n",
       "      <td>R IFG</td>\n",
       "      <td>Right middle pars triangularis A</td>\n",
       "      <td>NaN</td>\n",
       "      <td>NaN</td>\n",
       "      <td>vlPFC</td>\n",
       "      <td>r</td>\n",
       "    </tr>\n",
       "    <tr>\n",
       "      <th>14</th>\n",
       "      <td>rmolf2-rmolf3</td>\n",
       "      <td>A11l_R</td>\n",
       "      <td>10.609608</td>\n",
       "      <td>41.354544</td>\n",
       "      <td>-21.178711</td>\n",
       "      <td>13.585745</td>\n",
       "      <td>32.814251</td>\n",
       "      <td>-23.488034</td>\n",
       "      <td>Gray</td>\n",
       "      <td>Right MOrG medial orbital gyrus</td>\n",
       "      <td>Area Fo1</td>\n",
       "      <td>R Superior Orbital Gyrus</td>\n",
       "      <td>R OrG</td>\n",
       "      <td>Right frontal orbital 4 B</td>\n",
       "      <td>NaN</td>\n",
       "      <td>NaN</td>\n",
       "      <td>OFC</td>\n",
       "      <td>r</td>\n",
       "    </tr>\n",
       "    <tr>\n",
       "      <th>15</th>\n",
       "      <td>rmolf3-rmolf4</td>\n",
       "      <td>A11l_R</td>\n",
       "      <td>14.607590</td>\n",
       "      <td>41.354544</td>\n",
       "      <td>-18.781120</td>\n",
       "      <td>17.856656</td>\n",
       "      <td>32.603019</td>\n",
       "      <td>-19.916883</td>\n",
       "      <td>White</td>\n",
       "      <td>Right MOrG medial orbital gyrus</td>\n",
       "      <td>Area Fo3</td>\n",
       "      <td>R Superior Orbital Gyrus</td>\n",
       "      <td>R OrG</td>\n",
       "      <td>Unknown</td>\n",
       "      <td>WM</td>\n",
       "      <td>NaN</td>\n",
       "      <td>OFC</td>\n",
       "      <td>r</td>\n",
       "    </tr>\n",
       "    <tr>\n",
       "      <th>16</th>\n",
       "      <td>rmolf4-rmolf5</td>\n",
       "      <td>A11l_R</td>\n",
       "      <td>18.605571</td>\n",
       "      <td>41.354544</td>\n",
       "      <td>-15.983932</td>\n",
       "      <td>22.154175</td>\n",
       "      <td>32.301156</td>\n",
       "      <td>-15.879958</td>\n",
       "      <td>Gray</td>\n",
       "      <td>Right MOrG medial orbital gyrus</td>\n",
       "      <td>Area Fo3</td>\n",
       "      <td>R Superior Orbital Gyrus</td>\n",
       "      <td>R OrG</td>\n",
       "      <td>Right frontal orbital 4 C</td>\n",
       "      <td>NaN</td>\n",
       "      <td>NaN</td>\n",
       "      <td>OFC</td>\n",
       "      <td>r</td>\n",
       "    </tr>\n",
       "    <tr>\n",
       "      <th>17</th>\n",
       "      <td>rmolf5-rmolf6</td>\n",
       "      <td>A11l_R</td>\n",
       "      <td>23.003351</td>\n",
       "      <td>41.754104</td>\n",
       "      <td>-13.186743</td>\n",
       "      <td>26.875100</td>\n",
       "      <td>32.350023</td>\n",
       "      <td>-11.683896</td>\n",
       "      <td>Gray</td>\n",
       "      <td>Right POrG posterior orbital gyrus</td>\n",
       "      <td>Area Fo3</td>\n",
       "      <td>R IFG (p Orbitalis)</td>\n",
       "      <td>R OrG</td>\n",
       "      <td>Right frontal orbital 4 D</td>\n",
       "      <td>NaN</td>\n",
       "      <td>NaN</td>\n",
       "      <td>OFC</td>\n",
       "      <td>r</td>\n",
       "    </tr>\n",
       "    <tr>\n",
       "      <th>21</th>\n",
       "      <td>rmolf9-rmolf10</td>\n",
       "      <td>A44op_R</td>\n",
       "      <td>38.995277</td>\n",
       "      <td>43.751908</td>\n",
       "      <td>-1.598388</td>\n",
       "      <td>44.407719</td>\n",
       "      <td>33.997962</td>\n",
       "      <td>3.571692</td>\n",
       "      <td>White</td>\n",
       "      <td>Right Cerebral White Matter</td>\n",
       "      <td>Unknown</td>\n",
       "      <td>R IFG (p Triangularis)</td>\n",
       "      <td>R IFG</td>\n",
       "      <td>Right middle pars triangularis A</td>\n",
       "      <td>WM</td>\n",
       "      <td>NaN</td>\n",
       "      <td>IFG</td>\n",
       "      <td>r</td>\n",
       "    </tr>\n",
       "  </tbody>\n",
       "</table>\n",
       "</div>"
      ],
      "text/plain": [
       "              label BN246label          x          y          z      mni_x  \\\n",
       "0     racas1-racas2    A24rv_R   2.213847  40.555422  -7.592365   4.000299   \n",
       "2     racas2-racas3    A24rv_R   3.413242  42.153665  -3.596380   5.193647   \n",
       "3     racas3-racas4    A24rv_R   4.612636  43.352347   1.198800   6.248130   \n",
       "4     racas4-racas5    A24rv_R   5.812031  44.950590   5.594383   7.611961   \n",
       "5     racas5-racas6    A32sg_R   7.011425  46.948394   9.989966   9.046897   \n",
       "6     racas6-racas7      A9m_R   8.210819  48.546637  13.985950  10.484175   \n",
       "8     racas8-racas9    Unknown  10.609608  53.341366  22.377517  13.480057   \n",
       "9    racas9-racas10      A9l_R  11.409205  55.339170  25.973903  14.334990   \n",
       "10    rmolf1-rmolf2      A13_R   7.011425  41.354544 -23.975900   9.794417   \n",
       "11  rmolf10-rmolf11      IFS_R  42.593461  44.151469   0.799202  48.395887   \n",
       "14    rmolf2-rmolf3     A11l_R  10.609608  41.354544 -21.178711  13.585745   \n",
       "15    rmolf3-rmolf4     A11l_R  14.607590  41.354544 -18.781120  17.856656   \n",
       "16    rmolf4-rmolf5     A11l_R  18.605571  41.354544 -15.983932  22.154175   \n",
       "17    rmolf5-rmolf6     A11l_R  23.003351  41.754104 -13.186743  26.875100   \n",
       "21   rmolf9-rmolf10    A44op_R  38.995277  43.751908  -1.598388  44.407719   \n",
       "\n",
       "        mni_y      mni_z     gm  \\\n",
       "0   31.589838  -7.086648   Gray   \n",
       "2   33.135858  -1.753866   Gray   \n",
       "3   34.246815   4.546188   Gray   \n",
       "4   35.782938  10.284493   Gray   \n",
       "5   37.587455  16.017830   Gray   \n",
       "6   38.904387  21.189590   Gray   \n",
       "8   43.196060  32.219264  White   \n",
       "9   44.963552  36.907822   Gray   \n",
       "10  33.025859 -27.313912   Gray   \n",
       "11  34.104423   6.673498   Gray   \n",
       "14  32.814251 -23.488034   Gray   \n",
       "15  32.603019 -19.916883  White   \n",
       "16  32.301156 -15.879958   Gray   \n",
       "17  32.350023 -11.683896   Gray   \n",
       "21  33.997962   3.571692  White   \n",
       "\n",
       "                                                  NMM      Anat  \\\n",
       "0                 Right ACgG anterior cingulate gyrus  Area s24   \n",
       "2                 Right ACgG anterior cingulate gyrus   Area 33   \n",
       "3                 Right ACgG anterior cingulate gyrus   Area 33   \n",
       "4                 Right ACgG anterior cingulate gyrus   Area 33   \n",
       "5                 Right ACgG anterior cingulate gyrus   Unknown   \n",
       "6    Right MSFG superior frontal gyrus medial segment   Unknown   \n",
       "8                         Right Cerebral White Matter   Unknown   \n",
       "9                    Right SFG superior frontal gyrus   Unknown   \n",
       "10                    Right MOrG medial orbital gyrus  Area Fo1   \n",
       "11  Right TrIFG triangular part of the inferior fr...   Area 45   \n",
       "14                    Right MOrG medial orbital gyrus  Area Fo1   \n",
       "15                    Right MOrG medial orbital gyrus  Area Fo3   \n",
       "16                    Right MOrG medial orbital gyrus  Area Fo3   \n",
       "17                 Right POrG posterior orbital gyrus  Area Fo3   \n",
       "21                        Right Cerebral White Matter   Unknown   \n",
       "\n",
       "                   AnatMacro    BN246                             YBA_1  \\\n",
       "0                      R ACC     R CG           Right cingulate gyrus D   \n",
       "2                      R ACC     R CG           Right cingulate gyrus D   \n",
       "3                      R ACC     R CG           Right cingulate gyrus E   \n",
       "4                      R ACC     R CG           Right cingulate gyrus F   \n",
       "5                      R ACC     R CG           Right cingulate gyrus G   \n",
       "6                      R ACC    R SFG  Right superior frontal gyrus 1 A   \n",
       "8   R Superior Frontal Gyrus  Unknown                           Unknown   \n",
       "9   R Superior Frontal Gyrus    R SFG  Right superior frontal gyrus 2 C   \n",
       "10            R Rectal Gyrus    R OrG         Right frontal orbital 4 B   \n",
       "11    R IFG (p Triangularis)    R IFG  Right middle pars triangularis A   \n",
       "14  R Superior Orbital Gyrus    R OrG         Right frontal orbital 4 B   \n",
       "15  R Superior Orbital Gyrus    R OrG                           Unknown   \n",
       "16  R Superior Orbital Gyrus    R OrG         Right frontal orbital 4 C   \n",
       "17       R IFG (p Orbitalis)    R OrG         Right frontal orbital 4 D   \n",
       "21    R IFG (p Triangularis)    R IFG  Right middle pars triangularis A   \n",
       "\n",
       "   ManualExamination  Notes salman_region hemisphere  \n",
       "0                NaN    NaN           ACC          r  \n",
       "2                NaN    NaN           ACC          r  \n",
       "3                NaN    NaN           ACC          r  \n",
       "4                 WM    NaN       Unknown          r  \n",
       "5                NaN    NaN           ACC          r  \n",
       "6                NaN    NaN         dmPFC          r  \n",
       "8                 WM    NaN       Unknown          r  \n",
       "9                NaN    NaN         dmPFC          r  \n",
       "10               NaN    NaN           OFC          r  \n",
       "11               NaN    NaN         vlPFC          r  \n",
       "14               NaN    NaN           OFC          r  \n",
       "15                WM    NaN           OFC          r  \n",
       "16               NaN    NaN           OFC          r  \n",
       "17               NaN    NaN           OFC          r  \n",
       "21                WM    NaN           IFG          r  "
      ]
     },
     "execution_count": 22,
     "metadata": {},
     "output_type": "execute_result"
    }
   ],
   "source": [
    "elec_df"
   ]
  },
  {
   "cell_type": "markdown",
   "id": "8ff05564",
   "metadata": {},
   "source": [
    " - mne_data: a Raw mne object, where the data has been loaded, filtered for line noise, searched for bad channels, parsed for different data types, and resampled if necessary. \n",
    " \n",
    " - mne_data_reref: an mne object containing re-referenced data (either white matter or bipolar)"
   ]
  },
  {
   "cell_type": "markdown",
   "id": "c1b53a3d",
   "metadata": {},
   "source": [
    "## NOW look at the data to manually remove channels: "
   ]
  },
  {
   "cell_type": "markdown",
   "id": "03b12839",
   "metadata": {},
   "source": [
    "After bipolar referencing: "
   ]
  },
  {
   "cell_type": "code",
   "execution_count": null,
   "id": "eeca6f46",
   "metadata": {},
   "outputs": [],
   "source": [
    "%matplotlib notebook "
   ]
  },
  {
   "cell_type": "code",
   "execution_count": null,
   "id": "e892ec21",
   "metadata": {},
   "outputs": [],
   "source": [
    "# Scroll up/down and left/right using your keyboard. CLICK on a channel to turn it 'grey' and mark as a 'bad' channel. \n",
    "# If you click a grey channel again it will unmark it. \n",
    "\n",
    "# subj_id = 'MS012'\n",
    "# save_path = f'{base_dir}/projects/guLab/Salman/EphysAnalyses/{subj_id}/neural/Day1'\n",
    "mne_data_reref = mne.io.read_raw_fif(f'{load_path}/bp_ref_ieeg.fif', preload=True)\n",
    "fig = mne_data_reref.plot(start=0, duration=120, n_channels=30, \n",
    "                      scalings=mne_data_reref._data.max()/30\n",
    "                     )"
   ]
  },
  {
   "cell_type": "code",
   "execution_count": null,
   "id": "90817f7c",
   "metadata": {},
   "outputs": [],
   "source": [
    "# ALSO look at the power spectra! \n",
    "# You can click on channels here to identify them, and go back to the viz above to mark them as noise if need be\n",
    "\n",
    "mne_data_reref.compute_psd().plot()"
   ]
  },
  {
   "cell_type": "markdown",
   "id": "9d310de9",
   "metadata": {},
   "source": [
    "If you have ran the preprocessing above, load the data instead: \n"
   ]
  },
  {
   "cell_type": "code",
   "execution_count": 23,
   "id": "b657ca72",
   "metadata": {},
   "outputs": [
    {
     "name": "stdout",
     "output_type": "stream",
     "text": [
      "Opening raw data file /hpc/users/qasims01/resources/LFPAnalysis/data/bp_ref_ieeg.fif...\n",
      "    Range : 0 ... 394061 =      0.000 ...   788.122 secs\n",
      "Ready.\n",
      "Reading 0 ... 394061  =      0.000 ...   788.122 secs...\n",
      "Opening raw data file /hpc/users/qasims01/resources/LFPAnalysis/data/sample_photodiode.fif...\n",
      "Isotrak not found\n",
      "    Range : 0 ... 807039 =      0.000 ...   788.124 secs\n",
      "Ready.\n",
      "Reading 0 ... 807039  =      0.000 ...   788.124 secs...\n"
     ]
    }
   ],
   "source": [
    "# for subj_id in subj_ids: \n",
    "load_path = '/hpc/users/qasims01/resources/LFPAnalysis/data'\n",
    "\n",
    "elec_file = f'{load_path}/sample_labels.xlsx'\n",
    "\n",
    "# Set paths\n",
    "#     load_path = f'{base_dir}/projects/guLab/Salman/EMU/{subj_id}/neural/Day1'\n",
    "#     elec_path = f'{base_dir}/projects/guLab/Salman/EMU/{subj_id}/anat/'\n",
    "#     save_path = f'{base_dir}/work/qasims01/MemoryBanditData/EMU/Subjects/{subj_id}/neural/Day1'\n",
    "\n",
    "#     elec_files = glob(f'{elec_path}/*.csv') + glob(f'{elec_path}/*.xlsx')\n",
    "# There should really only be one \n",
    "#     elec_file = elec_files[0]\n",
    "elec_data = lfp_preprocess_utils.load_elec(elec_file)\n",
    "\n",
    "mne_data_reref = mne.io.read_raw_fif(f'{load_path}/bp_ref_ieeg.fif', preload=True)\n",
    "\n",
    "photodiode_data = mne.io.read_raw_fif(f'{load_path}/sample_photodiode.fif', preload=True)\n",
    "\n",
    "# Append to list \n",
    "# mne_dict[subj_id].append(mne_data_reref)\n",
    "\n",
    "# photodiode_dict[subj_id].append(photodiode_data)\n",
    "\n",
    "# elec_dict[subj_id].append(elec_file)"
   ]
  },
  {
   "cell_type": "markdown",
   "id": "dc2e10c5",
   "metadata": {},
   "source": [
    " - mne_dict: a dictionary containing all of your subjects' re-referenced mne data \n",
    " \n",
    " - photodiode_dict: a dictionary containing all of your subjects' photodiode data \n",
    " \n",
    " - elec_dict: a dictionary containing the paths to your subjects' electrode data "
   ]
  },
  {
   "cell_type": "markdown",
   "id": "ac9b7377",
   "metadata": {},
   "source": [
    "## Sync behavioral and neural data"
   ]
  },
  {
   "cell_type": "markdown",
   "id": "6b57df8f",
   "metadata": {},
   "source": [
    "Here, we perform a critical step: computing the time offset between the computer that recorded the neural data and the laptop that featured the experiment. \n",
    "\n",
    "The function here only requires a **subset** of detected sync signals (i.e. photodiode deflections) to be detected to successfully compute this offset. "
   ]
  },
  {
   "cell_type": "markdown",
   "id": "a501a02c-8417-4608-b8ab-dcefe44c53f8",
   "metadata": {},
   "source": [
    "First, you may need to MANUALLY clean the photodiode signal if the recording quality is poor. Load it, plot it, and try to isolate/amplify the pulses. "
   ]
  },
  {
   "cell_type": "code",
   "execution_count": null,
   "id": "347d6565-fd46-43fe-9266-68e7f05c1dbd",
   "metadata": {},
   "outputs": [],
   "source": [
    "# subj_id = 'MS015'\n",
    "# temp_diode = photodiode_dict[subj_id][0]._data[0, :]\n",
    "# temp_diode[900000:] = np.nanmin(temp_diode)\n",
    "# photodiode_dict[subj_id][0]._data = temp_diod"
   ]
  },
  {
   "cell_type": "code",
   "execution_count": 28,
   "id": "480fb71d",
   "metadata": {},
   "outputs": [
    {
     "name": "stdout",
     "output_type": "stream",
     "text": [
      "28 blocks\n",
      "............................\n",
      "\n",
      "found matches for 150 of 428 pulses\n",
      "0.9999892560991055\n",
      "-228.2080128605071\n"
     ]
    }
   ],
   "source": [
    "# slopes = {f'{x}': [] for x in subj_ids}\n",
    "# offsets = {f'{x}': [] for x in subj_ids}\n",
    "\n",
    "# for subj_id in subj_ids: \n",
    "        \n",
    "# Load the behavioral timestamps: \n",
    "#     behav_path = f'{base_dir}/projects/guLab/Salman/EMU/{subj_id}/behav/Day1'\n",
    "time_df = pd.read_csv(f'{load_path}/sample_ts.csv')\n",
    "# Load in the timestamps pertaining to your sync. If your task had a square pop up, for example, grab the times for that square's appearance from the behavioral logs.\n",
    "# Below, I do this for my own task's Psychopy output, but yours is probably coded differently. \n",
    "# beh_ts = temp_df[temp_df.keys()[temp_df.keys().str.startswith('sync') & temp_df.keys().str.endswith('started')]].values\n",
    "# beh_ts = beh_ts[~np.isnan(beh_ts)] \n",
    "\n",
    "# Synchronize to the photodiode or whatever your neural sync signal is\n",
    "height = 1\n",
    "windSize = 15\n",
    "smoothSize = 11\n",
    "\n",
    "slope, offset = sync_utils.synchronize_data(time_df['beh_ts'].values, \n",
    "                                            photodiode_data, \n",
    "                                            smoothSize=smoothSize, windSize=windSize, height=height)\n",
    "\n",
    "print(slope)\n",
    "print(offset)\n",
    "# slopes[subj_id].append(slope)\n",
    "# offsets[subj_id].append(offset)"
   ]
  },
  {
   "cell_type": "markdown",
   "id": "94fcdc1d",
   "metadata": {},
   "source": [
    " - slopes: a dictionary containing the slopes (should be ~ 1) for each subject\n",
    " - offsets: a dictionary containing the offsets for each subject"
   ]
  },
  {
   "cell_type": "markdown",
   "id": "bd052688",
   "metadata": {},
   "source": [
    "## Load your behavioral data"
   ]
  },
  {
   "cell_type": "markdown",
   "id": "1ed1451c",
   "metadata": {},
   "source": [
    "You probably have a separate notebook for processing the behavioral data for your task. Load the processed dataframe here:"
   ]
  },
  {
   "cell_type": "code",
   "execution_count": 33,
   "id": "f4de3ab8",
   "metadata": {
    "tags": []
   },
   "outputs": [],
   "source": [
    "# behav_data = pd.read_csv(f'{base_dir}/work/qasims01/MemoryBanditData/EMU/learn_df.csv')\n",
    "behav_data = pd.read_csv(f'{load_path}/sample_beh.csv')"
   ]
  },
  {
   "cell_type": "code",
   "execution_count": 34,
   "id": "9409a24f",
   "metadata": {},
   "outputs": [],
   "source": [
    "# # Filter just to the participants in this notebook\n",
    "# behav_data = behav_data[behav_data.participant.isin(subj_ids)]"
   ]
  },
  {
   "cell_type": "code",
   "execution_count": 35,
   "id": "f9e1bc09",
   "metadata": {},
   "outputs": [
    {
     "data": {
      "text/html": [
       "<div>\n",
       "<style scoped>\n",
       "    .dataframe tbody tr th:only-of-type {\n",
       "        vertical-align: middle;\n",
       "    }\n",
       "\n",
       "    .dataframe tbody tr th {\n",
       "        vertical-align: top;\n",
       "    }\n",
       "\n",
       "    .dataframe thead th {\n",
       "        text-align: right;\n",
       "    }\n",
       "</style>\n",
       "<table border=\"1\" class=\"dataframe\">\n",
       "  <thead>\n",
       "    <tr style=\"text-align: right;\">\n",
       "      <th></th>\n",
       "      <th>trials</th>\n",
       "      <th>feedback_start</th>\n",
       "      <th>baseline_start</th>\n",
       "    </tr>\n",
       "  </thead>\n",
       "  <tbody>\n",
       "    <tr>\n",
       "      <th>0</th>\n",
       "      <td>1</td>\n",
       "      <td>243.239158</td>\n",
       "      <td>244.929025</td>\n",
       "    </tr>\n",
       "    <tr>\n",
       "      <th>1</th>\n",
       "      <td>2</td>\n",
       "      <td>248.344187</td>\n",
       "      <td>250.043187</td>\n",
       "    </tr>\n",
       "    <tr>\n",
       "      <th>2</th>\n",
       "      <td>3</td>\n",
       "      <td>254.083059</td>\n",
       "      <td>255.790670</td>\n",
       "    </tr>\n",
       "    <tr>\n",
       "      <th>3</th>\n",
       "      <td>4</td>\n",
       "      <td>258.148220</td>\n",
       "      <td>259.838892</td>\n",
       "    </tr>\n",
       "    <tr>\n",
       "      <th>4</th>\n",
       "      <td>5</td>\n",
       "      <td>261.943712</td>\n",
       "      <td>263.620631</td>\n",
       "    </tr>\n",
       "  </tbody>\n",
       "</table>\n",
       "</div>"
      ],
      "text/plain": [
       "   trials  feedback_start  baseline_start\n",
       "0       1      243.239158      244.929025\n",
       "1       2      248.344187      250.043187\n",
       "2       3      254.083059      255.790670\n",
       "3       4      258.148220      259.838892\n",
       "4       5      261.943712      263.620631"
      ]
     },
     "execution_count": 35,
     "metadata": {},
     "output_type": "execute_result"
    }
   ],
   "source": [
    "behav_data.head(5)[['trials', 'feedback_start', 'baseline_start']]"
   ]
  },
  {
   "cell_type": "markdown",
   "id": "2833f764",
   "metadata": {},
   "source": [
    "## Make epochs"
   ]
  },
  {
   "cell_type": "markdown",
   "id": "2944dc32",
   "metadata": {},
   "source": [
    "Make epochs and remove IEDs. Currently just doing this for one example period - when subjects receive feedback. \n",
    "\n",
    "Notes: \n",
    "\n",
    "- I also segment a baseline period for every event of interest. \n",
    "\n",
    "- I apply a buffer period of 1.0 seconds - this will be helpful when we compute spectrograms later. \n",
    "\n",
    "- The IED count for every channel is added to the epoch metadata"
   ]
  },
  {
   "cell_type": "markdown",
   "id": "af65b21a",
   "metadata": {},
   "source": [
    "(I'm a little dumb, so my baseline is a fixation cross AFTER the trial, rather than before. A bit silly if you ask me.) "
   ]
  },
  {
   "cell_type": "code",
   "execution_count": 38,
   "id": "63a53422",
   "metadata": {
    "tags": []
   },
   "outputs": [
    {
     "name": "stdout",
     "output_type": "stream",
     "text": [
      "Opening raw data file /hpc/users/qasims01/resources/LFPAnalysis/data/bp_ref_ieeg.fif...\n",
      "    Range : 0 ... 394061 =      0.000 ...   788.122 secs\n",
      "Ready.\n",
      "Reading 0 ... 394061  =      0.000 ...   788.122 secs...\n",
      "Filtering raw data in 1 contiguous segment\n",
      "Setting up band-pass filter from 25 - 80 Hz\n",
      "\n",
      "FIR filter parameters\n",
      "---------------------\n",
      "Designing a one-pass, zero-phase, non-causal bandpass filter:\n",
      "- Windowed time-domain design (firwin) method\n",
      "- Hamming window with 0.0194 passband ripple and 53 dB stopband attenuation\n",
      "- Lower passband edge: 25.00\n",
      "- Lower transition bandwidth: 6.25 Hz (-6 dB cutoff frequency: 21.88 Hz)\n",
      "- Upper passband edge: 80.00 Hz\n",
      "- Upper transition bandwidth: 20.00 Hz (-6 dB cutoff frequency: 90.00 Hz)\n",
      "- Filter length: 265 samples (0.530 s)\n",
      "\n"
     ]
    },
    {
     "name": "stderr",
     "output_type": "stream",
     "text": [
      "[Parallel(n_jobs=-1)]: Using backend LokyBackend with 5 concurrent workers.\n",
      "[Parallel(n_jobs=-1)]: Done  15 out of  15 | elapsed:    9.2s remaining:    0.0s\n",
      "[Parallel(n_jobs=-1)]: Done  15 out of  15 | elapsed:    9.2s finished\n",
      "[Parallel(n_jobs=-1)]: Using backend LokyBackend with 5 concurrent workers.\n",
      "[Parallel(n_jobs=-1)]: Done  11 out of  15 | elapsed:    0.2s remaining:    0.1s\n",
      "[Parallel(n_jobs=-1)]: Done  15 out of  15 | elapsed:    0.2s remaining:    0.0s\n",
      "[Parallel(n_jobs=-1)]: Done  15 out of  15 | elapsed:    0.2s finished\n"
     ]
    },
    {
     "name": "stdout",
     "output_type": "stream",
     "text": [
      "Used Annotations descriptions: ['feedback_start']\n",
      "Not setting metadata\n",
      "80 matching events found\n",
      "No baseline correction applied\n",
      "0 projection items activated\n",
      "Using data from preloaded Raw for 80 events and 2001 original time points ...\n",
      "0 bad epochs dropped\n",
      "Opening raw data file /hpc/users/qasims01/resources/LFPAnalysis/data/bp_ref_ieeg.fif...\n",
      "    Range : 0 ... 394061 =      0.000 ...   788.122 secs\n",
      "Ready.\n",
      "Reading 0 ... 394061  =      0.000 ...   788.122 secs...\n",
      "Filtering raw data in 1 contiguous segment\n",
      "Setting up band-pass filter from 25 - 80 Hz\n",
      "\n",
      "FIR filter parameters\n",
      "---------------------\n",
      "Designing a one-pass, zero-phase, non-causal bandpass filter:\n",
      "- Windowed time-domain design (firwin) method\n",
      "- Hamming window with 0.0194 passband ripple and 53 dB stopband attenuation\n",
      "- Lower passband edge: 25.00\n",
      "- Lower transition bandwidth: 6.25 Hz (-6 dB cutoff frequency: 21.88 Hz)\n",
      "- Upper passband edge: 80.00 Hz\n",
      "- Upper transition bandwidth: 20.00 Hz (-6 dB cutoff frequency: 90.00 Hz)\n",
      "- Filter length: 265 samples (0.530 s)\n",
      "\n"
     ]
    },
    {
     "name": "stderr",
     "output_type": "stream",
     "text": [
      "[Parallel(n_jobs=-1)]: Using backend LokyBackend with 5 concurrent workers.\n",
      "[Parallel(n_jobs=-1)]: Done  11 out of  15 | elapsed:    0.1s remaining:    0.1s\n",
      "[Parallel(n_jobs=-1)]: Done  15 out of  15 | elapsed:    0.2s remaining:    0.0s\n",
      "[Parallel(n_jobs=-1)]: Done  15 out of  15 | elapsed:    0.2s finished\n",
      "[Parallel(n_jobs=-1)]: Using backend LokyBackend with 5 concurrent workers.\n",
      "[Parallel(n_jobs=-1)]: Done  11 out of  15 | elapsed:    0.1s remaining:    0.1s\n",
      "[Parallel(n_jobs=-1)]: Done  15 out of  15 | elapsed:    0.2s remaining:    0.0s\n",
      "[Parallel(n_jobs=-1)]: Done  15 out of  15 | elapsed:    0.2s finished\n"
     ]
    },
    {
     "name": "stdout",
     "output_type": "stream",
     "text": [
      "Used Annotations descriptions: ['baseline_start']\n",
      "Not setting metadata\n",
      "80 matching events found\n",
      "No baseline correction applied\n",
      "0 projection items activated\n",
      "Using data from preloaded Raw for 80 events and 1376 original time points ...\n",
      "0 bad epochs dropped\n"
     ]
    }
   ],
   "source": [
    "# set some windows of interest \n",
    "\n",
    "buf = 1.0 # this is the buffer before and after that we use to limit edge effects for TFRs\n",
    "\n",
    "IED_args = {'peak_thresh':5,\n",
    "           'closeness_thresh':0.25, \n",
    "           'width_thresh':0.2}\n",
    "\n",
    "# evs = ['gamble_start', 'feedback_start', 'baseline_start']\n",
    "evs = {'feedback_start': [-0.5, 1.5],\n",
    "       'baseline_start': [0, 0.75]}\n",
    "\n",
    "load_path = '/hpc/users/qasims01/resources/LFPAnalysis/data'\n",
    "\n",
    "# add behavioral times of interest \n",
    "# for subj_id in subj_ids:\n",
    "    # Set paths\n",
    "#     load_path = f'{base_dir}/projects/guLab/Salman/EMU/{subj_id}/neural/Day1'\n",
    "#     save_path = f'{base_dir}/projects/guLab/Salman/EphysAnalyses/{subj_id}/neural/Day1'\n",
    "\n",
    "epochs_all_evs = {f'{x}': np.nan for x in evs}\n",
    "for event in evs.keys():\n",
    "    pre = evs[event][0]\n",
    "    post = evs[event][1]\n",
    "    fixed_baseline = None\n",
    "#     behav_times = learn_df[(learn_df.participant==subj_id)][event]\n",
    "    behav_times = behav_data[event]\n",
    "\n",
    "    # THE following function will now SAVE out dataframes that indicate IED and artifact time points in your data\n",
    "\n",
    "    epochs = lfp_preprocess_utils.make_epochs(load_path=f'{load_path}/bp_ref_ieeg.fif', \n",
    "                                              slope=slope, offset=offset, \n",
    "                                              behav_name=event, behav_times=behav_times,\n",
    "                                              ev_start_s=pre, ev_end_s=post, buf_s=1, downsamp_factor=None, IED_args=IED_args, detrend=0)\n",
    "\n",
    "\n",
    "    epochs_all_evs[event] = epochs\n",
    "#     epochs_all_evs[event].save(f'{load_path}/{event}-epo.fif', overwrite=True)\n"
   ]
  },
  {
   "cell_type": "markdown",
   "id": "f0abb83a",
   "metadata": {},
   "source": [
    " - epochs_all_evs: dictionary containing the epochs for all of your subjects' re-referenced data"
   ]
  },
  {
   "cell_type": "markdown",
   "id": "6e7661bf",
   "metadata": {},
   "source": [
    "Plot and examine the epochs if you'd like:"
   ]
  },
  {
   "cell_type": "code",
   "execution_count": 73,
   "id": "af96abae",
   "metadata": {},
   "outputs": [],
   "source": [
    "# %matplotlib notebook\n",
    "# fig = epochs_all_subjs_all_evs['MS007']['feedback_start'].plot(n_epochs=10, n_channels=10)"
   ]
  },
  {
   "cell_type": "code",
   "execution_count": 74,
   "id": "6261e54d",
   "metadata": {},
   "outputs": [],
   "source": [
    "# # Need this following line to save the annotations to the epochs object \n",
    "# fig.fake_keypress('a')"
   ]
  },
  {
   "cell_type": "markdown",
   "id": "80af3e03",
   "metadata": {},
   "source": [
    "## Where do I go from here? "
   ]
  },
  {
   "cell_type": "markdown",
   "id": "b5654949-ac77-4f95-b8bd-20451b63b8c6",
   "metadata": {},
   "source": [
    "At this point, you've successfuly pre-processed your iEEG data and sliced it around your timepoints of interest. These epochs are going to be the currency for many of your subsequent analyses, so make sure you TRUST THEM before proceeding to the other notebooks for analyses. \n",
    "\n",
    "From here, you can move on to the:\n",
    "\n",
    "1. FOOOF: a notebook for computing power-spectra across trials and fitting their peaks \n",
    "\n",
    "2. TFRPlotsAndStatistics: a notebook for computing time-frequency spectra (trial-level), and computing several different statistics or simply saving the data out in dataframes. \n",
    "\n",
    "3. OscillationDetection(BOSC): a notebook for computing sliding burst detection and saving the data out in dataframes \n",
    "\n",
    "4. TimeResolvedRegression: a notebook for computing regression analysis at each timepoint of a timeseries. TFR-extracted band power is used as example. \n",
    "\n",
    "5. ConnectivityAnalysis: a notebook for computing different synchrony measures between electrodes. "
   ]
  },
  {
   "cell_type": "code",
   "execution_count": null,
   "id": "cace9a41-91c2-4aff-bd14-116c08833abd",
   "metadata": {},
   "outputs": [],
   "source": []
  }
 ],
 "metadata": {
  "kernelspec": {
   "display_name": "lfp_analysis",
   "language": "python",
   "name": "lfpanalysis"
  },
  "language_info": {
   "codemirror_mode": {
    "name": "ipython",
    "version": 3
   },
   "file_extension": ".py",
   "mimetype": "text/x-python",
   "name": "python",
   "nbconvert_exporter": "python",
   "pygments_lexer": "ipython3",
   "version": "3.10.8"
  }
 },
 "nbformat": 4,
 "nbformat_minor": 5
}
