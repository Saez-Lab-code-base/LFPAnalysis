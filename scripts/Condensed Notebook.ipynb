{
 "cells": [
  {
   "cell_type": "markdown",
   "id": "3b0d5897",
   "metadata": {},
   "source": [
    "In this notebook, I aim to roll through an analysis across a single patient which can easily be looped for multiple patients. To do so, we will use the functions that are written out more explicitly in the step-by-step notebooks. "
   ]
  },
  {
   "cell_type": "code",
   "execution_count": 1,
   "id": "2fa7b176",
   "metadata": {},
   "outputs": [],
   "source": [
    "%matplotlib inline\n",
    "%reload_ext autoreload\n",
    "%autoreload 2"
   ]
  },
  {
   "cell_type": "code",
   "execution_count": 2,
   "id": "03250cb8",
   "metadata": {},
   "outputs": [],
   "source": [
    "import numpy as np\n",
    "import mne\n",
    "from glob import glob\n",
    "import matplotlib.pyplot as plt\n",
    "from matplotlib.backends.backend_pdf import PdfPages\n",
    "import seaborn as sns\n",
    "from scipy.stats import zscore, linregress\n",
    "import pandas as pd\n",
    "from mne.preprocessing.bads import _find_outliers"
   ]
  },
  {
   "cell_type": "code",
   "execution_count": 3,
   "id": "9fbfd27b",
   "metadata": {},
   "outputs": [],
   "source": [
    "from LFPAnalysis import lfp_preprocess_utils, sync_utils, analysis_utils"
   ]
  },
  {
   "cell_type": "markdown",
   "id": "f7846ec2",
   "metadata": {},
   "source": [
    "## Load, pre-process and re-reference the neural data"
   ]
  },
  {
   "cell_type": "code",
   "execution_count": 4,
   "id": "2b73e926",
   "metadata": {},
   "outputs": [
    {
     "name": "stdout",
     "output_type": "stream",
     "text": [
      "Extracting EDF parameters from /sc/arion/projects/guLab/Salman/EMU/MS007/neural/Day1/MS007_MemBandit.edf...\n",
      "EDF file detected\n",
      "Setting channel info structure...\n",
      "Creating raw.info structure...\n",
      "Reading 0 ... 1867007  =      0.000 ...  1823.249 secs...\n",
      "Could not find a match for rhplt9.\n",
      "Setting up band-stop filter\n",
      "\n",
      "FIR filter parameters\n",
      "---------------------\n",
      "Designing a one-pass, zero-phase, non-causal bandstop filter:\n",
      "- Windowed time-domain design (firwin) method\n",
      "- Hamming window with 0.0194 passband ripple and 53 dB stopband attenuation\n",
      "- Lower transition bandwidth: 0.50 Hz\n",
      "- Upper transition bandwidth: 0.50 Hz\n",
      "- Filter length: 6759 samples (6.601 sec)\n",
      "\n",
      "Overwriting existing file.\n",
      "Writing /sc/arion/work/qasims01/MemoryBanditData/EMU/Subjects/MS007/photodiode.fif\n",
      "Closing /sc/arion/work/qasims01/MemoryBanditData/EMU/Subjects/MS007/photodiode.fif\n",
      "[done]\n"
     ]
    },
    {
     "name": "stderr",
     "output_type": "stream",
     "text": [
      "/hpc/users/qasims01/resources/LFPAnalysis/LFPAnalysis/lfp_preprocess_utils.py:556: RuntimeWarning: This filename (/sc/arion/work/qasims01/MemoryBanditData/EMU/Subjects/MS007/photodiode.fif) does not conform to MNE naming conventions. All raw files should end with raw.fif, raw_sss.fif, raw_tsss.fif, _meg.fif, _eeg.fif, _ieeg.fif, raw.fif.gz, raw_sss.fif.gz, raw_tsss.fif.gz, _meg.fif.gz, _eeg.fif.gz or _ieeg.fif.gz\n",
      "  mne_data.save(f'{save_path}/photodiode.fif', picks='dc1', overwrite=True)\n"
     ]
    },
    {
     "name": "stdout",
     "output_type": "stream",
     "text": [
      "Could not find a match for rhplt9.\n",
      "sEEG channel type selected for re-referencing\n",
      "Creating RawArray with float64 data, n_channels=114, n_times=1867008\n",
      "    Range : 0 ... 1867007 =      0.000 ...  1823.249 secs\n",
      "Ready.\n",
      "Added the following bipolar channels:\n",
      "lacas1-lmolf1, lacas10-lacas9, lacas12-lacas9, lacas2-lmolf1, lacas3-lmolf1, lacas4-lacas8, lacas5-lacas8, lacas6-lacas8, lacas7-lacas8, laglt1-lhplt5, laglt10-laglt6, laglt2-lhplt5, laglt3-lhplt5, laglt7-lhplt6, laglt8-laglt6, laglt9-laglt6, laimm1-laglt5, laimm13-laimm12, laimm2-laimm6, laimm3-lmolf6, laimm4-laimm8, laimm5-laimm6, laimm7-laimm6, lcmfo1-lcmfo4, lcmfo12-lcmfo10, lcmfo13-lcmfo10, lcmfo2-lcmfo4, lcmfo3-lcmfo4, lcmfo7-lcmfo6, lcmfo8-lcmfo6, lhplt1-laglt5, lhplt10-lhplt8, lhplt2-laglt5, lhplt3-laglt4, lhplt4-lhplt6, lhplt9-lhplt8, lmcms1-lmcms5, lmcms2-lmcms5, lmcms3-lmcms5, lmcms4-lmcms5, lmcms9-lmcms8, lmolf2-lmolf6, lmolf3-lmolf6, lmolf4-laimm6, lmolf5-laimm6, lmolf8-laimm6, lmtpt1-lhplt5, lmtpt2-lhplt5, lmtpt3-lhplt5, lmtpt4-lhplt5, lmtpt5-lhplt7, lmtpt6-lhplt8, lmtpt7-lhplt8, lmtpt8-lhplt8, lpcip1-lpcip4, lpcip11-lpcip10, lpcip2-lpcip5, racas1-rmolf4, racas11-racas10, racas2-rmolf4, racas4-racas6, racas7-racas5, racas8-racas10, raglt1-raglt4, raglt2-raglt4, raglt3-raglt4, raglt6-raglt5, raglt7-raglt8, raglt9-rhplt8, raimm1-raglt5, raimm11-racas12, raimm12-racas12, raimm2-raimm5, raimm3-rmolf8, raimm4-rmolf8, raimm6-rmolf8, raimm7-racas9, raimm8-racas10, rcmfo1-rcmfo5, rcmfo10-rcmfo5, rcmfo11-rcmfo5, rcmfo12-raimm5, rcmfo13-raimm5, rcmfo2-rcmfo5, rcmfo3-rcmfo5, rcmfo4-rcmfo5, rcmfo7-rcmfo5, rcmfo8-rcmfo5, rcmfo9-rcmfo5, rhplt1-raglt4, rhplt2-rhplt4, rhplt3-rhplt4, rmcms2-rmcms7, rmcms3-rmcms7, rmcms4-rmcms1, rmcms5-rmcms8, rmcms6-rmcms7, rmcms9-rmcms7, rmolf1-racas3, rmolf2-racas3, rmolf5-rmolf8, rmolf6-rmolf3, rmolf7-rmolf3, rmolf9-rmolf3, rmtpt1-rmtpt3, rmtpt2-rmtpt3, rmtpt6-rmtpt4, rmtpt7-rmtpt4, rmtpt8-rmtpt4, rpcip1-rpcip5, rpcip11-rpcip8, rpcip2-rpcip5, rpcip7-rpcip6, rpcip9-rpcip8\n"
     ]
    }
   ],
   "source": [
    "base_dir = '/sc/arion' # this is the root directory for most un-archived data and results  \n",
    "subj_ids = ['MS007']\n",
    "mne_dict = {f'{x}': [] for x in subj_ids}\n",
    "for subj_id in ['MS007']: \n",
    "    # Set paths\n",
    "    load_path = f'{base_dir}/projects/guLab/Salman/EMU/{subj_id}/neural/Day1'\n",
    "    elec_path = f'{base_dir}/projects/guLab/Salman/EMU/{subj_id}/anat/'\n",
    "    elec_files = glob(f'{elec_path}/*labels.csv')[0]\n",
    "    save_path = f'{base_dir}/work/qasims01/MemoryBanditData/EMU/Subjects/{subj_id}'\n",
    "    \n",
    "    # Load electrode data (should already be manually localized!)\n",
    "    elec_data = pd.read_csv(elec_files)\n",
    "\n",
    "    # Sometimes there's extra columns with no entries: \n",
    "    elec_data = elec_data[elec_data.columns.drop(list(elec_data.filter(regex='Unnamed')))]\n",
    "\n",
    "    # Load neural data\n",
    "    mne_data = lfp_preprocess_utils.make_mne(load_path=load_path, \n",
    "                                             save_path=save_path, \n",
    "                                             elec_data=elec_data, \n",
    "                                             format='edf')\n",
    "    \n",
    "    # Re-reference neural data\n",
    "    mne_data_reref = lfp_preprocess_utils.ref_mne(mne_data=mne_data, \n",
    "                                                  elec_data=elec_data, \n",
    "                                                  method='wm', \n",
    "                                                  site='MSSM')\n",
    "    \n",
    "    # Save this data so that you don't need this step again:\n",
    "    mne_data_reref.save(f'{save_path}/wm_ref_ieeg.fif', overwrite=True)\n",
    "\n",
    "    \n",
    "    # Append to list \n",
    "    mne_dict[subj_id].append(mne_data_reref)\n",
    "    "
   ]
  },
  {
   "cell_type": "markdown",
   "id": "0ecf0059",
   "metadata": {},
   "source": [
    "## Load the behavioral data"
   ]
  },
  {
   "cell_type": "code",
   "execution_count": 5,
   "id": "754fad0f",
   "metadata": {},
   "outputs": [
    {
     "data": {
      "text/html": [
       "<table class=\"table table-hover table-striped table-sm table-responsive small\">\n",
       "    <tr>\n",
       "        <th>Measurement date</th>\n",
       "        \n",
       "        <td>January 01, 2001  16:05:56 GMT</td>\n",
       "        \n",
       "    </tr>\n",
       "    <tr>\n",
       "        <th>Experimenter</th>\n",
       "        \n",
       "        <td>Unknown</td>\n",
       "        \n",
       "    </tr>\n",
       "        <th>Participant</th>\n",
       "        \n",
       "        <td>Unknown</td>\n",
       "        \n",
       "    </tr>\n",
       "    <tr>\n",
       "        <th>Digitized points</th>\n",
       "        \n",
       "        <td>0 points</td>\n",
       "        \n",
       "    </tr>\n",
       "    <tr>\n",
       "        <th>Good channels</th>\n",
       "        <td>114 sEEG</td>\n",
       "    </tr>\n",
       "    <tr>\n",
       "        <th>Bad channels</th>\n",
       "        <td>None</td>\n",
       "    </tr>\n",
       "    <tr>\n",
       "        <th>EOG channels</th>\n",
       "        <td>Not available</td>\n",
       "    </tr>\n",
       "    <tr>\n",
       "        <th>ECG channels</th>\n",
       "        <td>Not available</td>\n",
       "    \n",
       "    <tr>\n",
       "        <th>Sampling frequency</th>\n",
       "        <td>1024.00 Hz</td>\n",
       "    </tr>\n",
       "    \n",
       "    \n",
       "    <tr>\n",
       "        <th>Highpass</th>\n",
       "        <td>0.00 Hz</td>\n",
       "    </tr>\n",
       "    \n",
       "    \n",
       "    <tr>\n",
       "        <th>Lowpass</th>\n",
       "        <td>512.00 Hz</td>\n",
       "    </tr>\n",
       "    \n",
       "    \n",
       "    \n",
       "    <tr>\n",
       "        <th>Filenames</th>\n",
       "        <td>MS007_MemBandit.edf</td>\n",
       "    </tr>\n",
       "    \n",
       "    <tr>\n",
       "        <th>Duration</th>\n",
       "        <td>00:30:24 (HH:MM:SS)</td>\n",
       "    </tr>\n",
       "</table>"
      ],
      "text/plain": [
       "<RawEDF | MS007_MemBandit.edf, 114 x 1867008 (1823.2 s), ~1.59 GB, data loaded>"
      ]
     },
     "execution_count": 5,
     "metadata": {},
     "output_type": "execute_result"
    }
   ],
   "source": []
  },
  {
   "cell_type": "code",
   "execution_count": null,
   "id": "03496d4a",
   "metadata": {},
   "outputs": [],
   "source": []
  }
 ],
 "metadata": {
  "kernelspec": {
   "display_name": "lfp_analysis",
   "language": "python",
   "name": "lfpanalysis"
  },
  "language_info": {
   "codemirror_mode": {
    "name": "ipython",
    "version": 3
   },
   "file_extension": ".py",
   "mimetype": "text/x-python",
   "name": "python",
   "nbconvert_exporter": "python",
   "pygments_lexer": "ipython3",
   "version": "3.11.0"
  }
 },
 "nbformat": 4,
 "nbformat_minor": 5
}
