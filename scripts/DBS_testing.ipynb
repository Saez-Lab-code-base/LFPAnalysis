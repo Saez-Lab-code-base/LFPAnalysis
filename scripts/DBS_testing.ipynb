{
 "cells": [
  {
   "cell_type": "code",
   "execution_count": 25,
   "metadata": {},
   "outputs": [],
   "source": [
    "import scipy\n",
    "import numpy as np\n",
    "import glob\n",
    "import matplotlib.pyplot as plt\n",
    "import pandas as pd\n",
    "\n",
    "#Analysis\n",
    "from scipy import signal\n",
    "from neurodsp.spectral import compute_spectrum, rotate_powerlaw\n",
    "from fooof import FOOOF\n",
    "import pycatch22"
   ]
  },
  {
   "cell_type": "markdown",
   "metadata": {},
   "source": [
    "# General Pipeline Guidelines\n",
    "- Analysis: https://neurodsp-tools.github.io/neurodsp/\n",
    "- Compute PSD https://neurodsp-tools.github.io/neurodsp/auto_tutorials/spectral/plot_SpectralPower.html#sphx-glr-auto-tutorials-spectral-plot-spectralpower-py\n",
    "- time-frequency spectrograms: https://neurodsp-tools.github.io/neurodsp/auto_tutorials/timefreq/plot_MorletWavelet.html#sphx-glr-auto-tutorials-timefreq-plot-morletwavelet-py\n",
    "- Pre-processing: https://neurodsp-tools.github.io/neurodsp/auto_tutorials/filt/plot_3_IIR.html?highlight=line%20noise\n",
    "\n",
    "Notes and to-do:\n",
    "- Finalize a pipleline that will identify the correct session file for pre vs post op besides visual examination\n",
    "- double check if FOOOF is taking log or no-log power spectrum\n",
    "\n",
    "Catch 22 non-linear features package install and try on single electrode\n",
    "\n",
    "recording duration, and recording sess gap table. \n",
    "use time_begin and End to have a information\n",
    "extract 30 seconds stable LFP data from the full recording. \n",
    "\n",
    "write a function, signal as input, sliding window for duration. compute variance of signal over duration. 15 sec sliding window. return all the variance and timepoint (timepoint, variance). numpy variance.\n",
    "variance on the matrix of chunk.\n",
    "slicing."
   ]
  },
  {
   "cell_type": "markdown",
   "metadata": {},
   "source": [
    "# Data Loading"
   ]
  },
  {
   "cell_type": "code",
   "execution_count": 2,
   "metadata": {},
   "outputs": [
    {
     "data": {
      "text/plain": [
       "['/Users/fuq01/Desktop/leap-analysis/LFP/Data_20220926\\\\LT2D-0.007F0001.mat',\n",
       " '/Users/fuq01/Desktop/leap-analysis/LFP/Data_20220926\\\\LT2D-0.007F0002.mat',\n",
       " '/Users/fuq01/Desktop/leap-analysis/LFP/Data_20220926\\\\LT2D-0.007F0003.mat',\n",
       " '/Users/fuq01/Desktop/leap-analysis/LFP/Data_20220926\\\\LT2D-0.007F0004.mat',\n",
       " '/Users/fuq01/Desktop/leap-analysis/LFP/Data_20220926\\\\LT2D-0.007F0005.mat',\n",
       " '/Users/fuq01/Desktop/leap-analysis/LFP/Data_20220926\\\\LT2D-0.007F0006.mat',\n",
       " '/Users/fuq01/Desktop/leap-analysis/LFP/Data_20220926\\\\LT2D-0.007F0007.mat',\n",
       " '/Users/fuq01/Desktop/leap-analysis/LFP/Data_20220926\\\\LT2D-0.007F0008.mat']"
      ]
     },
     "execution_count": 2,
     "metadata": {},
     "output_type": "execute_result"
    }
   ],
   "source": [
    "# Loading data from data folder\n",
    "local_directory = '/Users/fuq01/Desktop/leap-analysis/LFP/Data_20220926'\n",
    "mat_files = glob.glob(f'{local_directory}/*.mat')\n",
    "mat_files"
   ]
  },
  {
   "cell_type": "code",
   "execution_count": 3,
   "metadata": {},
   "outputs": [],
   "source": [
    "def load_mat(dir_files):\n",
    "    data_all = []\n",
    "    for m in dir_files:\n",
    "        file = scipy.io.loadmat(m)\n",
    "        data_all.append(file)\n",
    "    return data_all\n",
    "\n",
    "data_all = load_mat(mat_files)"
   ]
  },
  {
   "cell_type": "markdown",
   "metadata": {},
   "source": [
    "# Manual Examination of Recording session\n",
    "Session 1,2,5,6 are excluded due to short recording\n",
    "\n",
    "Putative OR operation happened between 5 & 6\n",
    "- PreOp: 3 (8.7 m), 4 (5.4 m)\n",
    "- PostOp: 7 (4.74 m), 8 (9.54 m)"
   ]
  },
  {
   "cell_type": "markdown",
   "metadata": {},
   "source": [
    "work on down sample specification check\n",
    "\n",
    "always look at the original sampling rate first before going to downsample."
   ]
  },
  {
   "cell_type": "code",
   "execution_count": 33,
   "metadata": {},
   "outputs": [],
   "source": [
    "# Import spectral power functions\n",
    "from neurodsp.spectral import compute_spectrum, rotate_powerlaw\n",
    "\n",
    "def load_channel(data, channel_name, downsample_factor=False):\n",
    "    '''\n",
    "    This function load a specific channel from one raw data file. Downsampling of the data should be applied once sampling rate has been examined.\n",
    "    Input--------------------------\n",
    "    data: 1xn, data signal\n",
    "    channel_name: string, recording channel name\n",
    "    downsample_factor: int\n",
    "    Output-------------------------\n",
    "    channel: raw or downsampled data\n",
    "    sample_hz: sampling rate in Hz\n",
    "    duration: total recording duration\n",
    "    t_begin: relative recording start time\n",
    "    t_end: relative recording end time\n",
    "    '''\n",
    "\n",
    "    channel = data[channel_name].flatten()\n",
    "    sampling_rate = channel_name + '_KHz'\n",
    "    channel_hz = data[sampling_rate].flatten()*1000\n",
    "    print(channel_name, \"sampling rate in hz\", channel_hz)\n",
    "\n",
    "    #downsample data\n",
    "    channel = signal.decimate(channel, downsample_factor)\n",
    "    sample_hz = channel_hz/downsample_factor\n",
    "    if np.mod(channel_hz, downsample_factor) != 0:\n",
    "        raise ValueError('Check your downsample factor')\n",
    "  \n",
    "    #get recording duration\n",
    "    duration = channel.shape[0]/(60.0*channel_hz) #float operation\n",
    "    print(channel_name, \"duration\", duration)\n",
    "\n",
    "    #get recording start and end time\n",
    "    t_begin = channel_name + '_TimeBegin'\n",
    "    t_begin = data[t_begin]\n",
    "    t_end = channel_name + '_TimeEnd'\n",
    "    t_end = data[t_end]\n",
    "    \n",
    "    return channel, sample_hz, duration, t_begin, t_end "
   ]
  },
  {
   "cell_type": "code",
   "execution_count": 21,
   "metadata": {},
   "outputs": [
    {
     "name": "stdout",
     "output_type": "stream",
     "text": [
      "CRAW_01 sampling rate in hz [44000]\n",
      "CRAW_01 duration [0.12266098]\n",
      "CRAW_01 sampling rate in hz [44000]\n",
      "CRAW_01 duration [0.10783561]\n"
     ]
    }
   ],
   "source": [
    "#need to set the downsample_factor based on actual sampling rate first\n",
    "pre_raw, pre_hz, pre_t, pre_begin, pre_end = load_channel(data_all[3], 'CRAW_01', downsample_factor = 44)\n",
    "post_raw, post_hz, post_t, post_begin, post_end = load_channel(data_all[6], 'CRAW_01', downsample_factor = 44)"
   ]
  },
  {
   "cell_type": "markdown",
   "metadata": {},
   "source": [
    "# Catch22 and FOOOF"
   ]
  },
  {
   "cell_type": "code",
   "execution_count": 31,
   "metadata": {},
   "outputs": [],
   "source": [
    "def ff22(data, hz, sess):\n",
    "    '''\n",
    "    This function takes in a single signal and outputs a 1x29 dataframe containing the results from catch22 and FOOOF analysis.\n",
    "    Input--------------------------\n",
    "    data: 1xn, data signal\n",
    "    hz: sampling rate\n",
    "    sess: data file identification\n",
    "    Output-------------------------\n",
    "    df: 1x29 pandas dataframe\n",
    "    '''\n",
    "    # Catch22 \n",
    "    c22 = pycatch22.catch22_all(data)\n",
    "\n",
    "    # FOOOF\n",
    "    freq_mean, psd_mean = compute_spectrum(data, hz, method='welch', avg_type='mean', nperseg=hz*2)\n",
    "    new_freq = freq_mean[freq_mean<120]\n",
    "    new_psd = psd_mean[freq_mean<120] #???? why select from freq_mean again? \n",
    "\n",
    "    fm = FOOOF() # Initialize FOOOF object\n",
    "    freq_range = [2, 32] # Define frequency range across which to model the spectrum\n",
    "\n",
    "    fm.fit(new_freq, new_psd, freq_range)\n",
    "    # fm.report(new_freq, new_psd, freq_range)\n",
    "\n",
    "    # Data organization\n",
    "    c22_df = pd.DataFrame.from_dict(c22, orient='index')\n",
    "    c22_df.columns = c22_df.iloc[0]\n",
    "    c22_df.reset_index(inplace=True)\n",
    "    c22_df.drop(0, inplace=True)\n",
    "    c22_df.reset_index(inplace=True)\n",
    "    c22_df.drop(['level_0', 'index'], axis=1, inplace=True)\n",
    "\n",
    "    ff_param = fm.peak_params_\n",
    "    aperiodic = fm.aperiodic_params_.reshape((1, 2))\n",
    "    params_dic = {'offset': aperiodic[0,0], 'exponent':aperiodic[0,1],'n_peak': ff_param.shape[0], 'CF': [ff_param[:,0]], 'PW': [ff_param[:,1]], 'BW': [ff_param[:,2]]}\n",
    "    ff_df = pd.DataFrame.from_dict(params_dic)\n",
    "\n",
    "    df = pd.concat([c22_df, ff_df], axis=1)\n",
    "    df.insert(loc=0, column='sess', value=sess)\n",
    "\n",
    "    return df"
   ]
  },
  {
   "cell_type": "code",
   "execution_count": 30,
   "metadata": {},
   "outputs": [
    {
     "name": "stdout",
     "output_type": "stream",
     "text": [
      "\n",
      "FOOOF WARNING: Lower-bound peak width limit is < or ~= the frequency resolution: 0.50 <= 0.50\n",
      "\tLower bounds below frequency-resolution have no effect (effective lower bound is the frequency resolution).\n",
      "\tToo low a limit may lead to overfitting noise as small bandwidth peaks.\n",
      "\tWe recommend a lower bound of approximately 2x the frequency resolution.\n",
      "\n"
     ]
    },
    {
     "data": {
      "text/html": [
       "<div>\n",
       "<style scoped>\n",
       "    .dataframe tbody tr th:only-of-type {\n",
       "        vertical-align: middle;\n",
       "    }\n",
       "\n",
       "    .dataframe tbody tr th {\n",
       "        vertical-align: top;\n",
       "    }\n",
       "\n",
       "    .dataframe thead th {\n",
       "        text-align: right;\n",
       "    }\n",
       "</style>\n",
       "<table border=\"1\" class=\"dataframe\">\n",
       "  <thead>\n",
       "    <tr style=\"text-align: right;\">\n",
       "      <th></th>\n",
       "      <th>sess</th>\n",
       "      <th>DN_HistogramMode_5</th>\n",
       "      <th>DN_HistogramMode_10</th>\n",
       "      <th>CO_f1ecac</th>\n",
       "      <th>CO_FirstMin_ac</th>\n",
       "      <th>CO_HistogramAMI_even_2_5</th>\n",
       "      <th>CO_trev_1_num</th>\n",
       "      <th>MD_hrv_classic_pnn40</th>\n",
       "      <th>SB_BinaryStats_mean_longstretch1</th>\n",
       "      <th>SB_TransitionMatrix_3ac_sumdiagcov</th>\n",
       "      <th>...</th>\n",
       "      <th>SC_FluctAnal_2_rsrangefit_50_1_logi_prop_r1</th>\n",
       "      <th>SC_FluctAnal_2_dfa_50_1_2_logi_prop_r1</th>\n",
       "      <th>SP_Summaries_welch_rect_centroid</th>\n",
       "      <th>FC_LocalSimple_mean3_stderr</th>\n",
       "      <th>offset</th>\n",
       "      <th>exponent</th>\n",
       "      <th>n_peak</th>\n",
       "      <th>CF</th>\n",
       "      <th>PW</th>\n",
       "      <th>BW</th>\n",
       "    </tr>\n",
       "  </thead>\n",
       "  <tbody>\n",
       "    <tr>\n",
       "      <th>0</th>\n",
       "      <td>post_op</td>\n",
       "      <td>-0.205564</td>\n",
       "      <td>-0.660453</td>\n",
       "      <td>13477.392015</td>\n",
       "      <td>32</td>\n",
       "      <td>0.58277</td>\n",
       "      <td>-0.000008</td>\n",
       "      <td>0.090999</td>\n",
       "      <td>35917.0</td>\n",
       "      <td>0.0625</td>\n",
       "      <td>...</td>\n",
       "      <td>0.12</td>\n",
       "      <td>0.18</td>\n",
       "      <td>0.000096</td>\n",
       "      <td>0.044267</td>\n",
       "      <td>2.463873</td>\n",
       "      <td>1.82549</td>\n",
       "      <td>3</td>\n",
       "      <td>[12.075895930319538, 18.600462072867334, 30.01...</td>\n",
       "      <td>[0.3965350844834068, 1.2647703253506206, 1.418...</td>\n",
       "      <td>[4.3043273723942646, 5.468132358381762, 0.8430...</td>\n",
       "    </tr>\n",
       "  </tbody>\n",
       "</table>\n",
       "<p>1 rows × 29 columns</p>\n",
       "</div>"
      ],
      "text/plain": [
       "      sess DN_HistogramMode_5 DN_HistogramMode_10     CO_f1ecac  \\\n",
       "0  post_op          -0.205564           -0.660453  13477.392015   \n",
       "\n",
       "  CO_FirstMin_ac CO_HistogramAMI_even_2_5 CO_trev_1_num MD_hrv_classic_pnn40  \\\n",
       "0             32                  0.58277     -0.000008             0.090999   \n",
       "\n",
       "  SB_BinaryStats_mean_longstretch1 SB_TransitionMatrix_3ac_sumdiagcov  ...  \\\n",
       "0                          35917.0                             0.0625  ...   \n",
       "\n",
       "  SC_FluctAnal_2_rsrangefit_50_1_logi_prop_r1  \\\n",
       "0                                        0.12   \n",
       "\n",
       "  SC_FluctAnal_2_dfa_50_1_2_logi_prop_r1 SP_Summaries_welch_rect_centroid  \\\n",
       "0                                   0.18                         0.000096   \n",
       "\n",
       "  FC_LocalSimple_mean3_stderr    offset exponent n_peak  \\\n",
       "0                    0.044267  2.463873  1.82549      3   \n",
       "\n",
       "                                                  CF  \\\n",
       "0  [12.075895930319538, 18.600462072867334, 30.01...   \n",
       "\n",
       "                                                  PW  \\\n",
       "0  [0.3965350844834068, 1.2647703253506206, 1.418...   \n",
       "\n",
       "                                                  BW  \n",
       "0  [4.3043273723942646, 5.468132358381762, 0.8430...  \n",
       "\n",
       "[1 rows x 29 columns]"
      ]
     },
     "execution_count": 30,
     "metadata": {},
     "output_type": "execute_result"
    }
   ],
   "source": [
    "ff22(post_raw, post_hz, 'post_op')"
   ]
  },
  {
   "cell_type": "markdown",
   "metadata": {},
   "source": [
    "# Power spectral\n",
    "This code block generate power spectral for each individual recording session for quick visualization of the session quality.\n",
    "\n",
    "\n",
    "NOTES:\n",
    "- There seems to be a harware filter at 60 hz, no peak signal at 60 hz from the power spectral graph.\n",
    "- Need to ask all the hardware filter that has been applied to the raw data. "
   ]
  },
  {
   "cell_type": "code",
   "execution_count": null,
   "metadata": {},
   "outputs": [],
   "source": [
    "# Import spectral power functions\n",
    "from neurodsp.spectral import compute_spectrum, rotate_powerlaw"
   ]
  },
  {
   "cell_type": "code",
   "execution_count": null,
   "metadata": {},
   "outputs": [],
   "source": [
    "#plot for each file \n",
    "freq_list = []\n",
    "psd_list = []\n",
    "\n",
    "for m in mat_files:\n",
    "    file = scipy.io.loadmat(m)\n",
    "    CLFP_01 = file['CRAW_01'].flatten()\n",
    "    CLFP_hz = file['CRAW_01_KHz'].flatten()*1000\n",
    "    freq_mean, psd_mean = compute_spectrum(CLFP_01, CLFP_hz, method='welch', avg_type='mean', nperseg=CLFP_hz*2)\n",
    "\n",
    "    #subset the frequence range below 120 hz\n",
    "    new_freq = freq_mean[freq_mean<120]\n",
    "    new_psd = psd_mean[freq_mean<120]\n",
    "    freq_list.append(new_freq)\n",
    "    psd_list.append(new_psd)\n"
   ]
  },
  {
   "cell_type": "code",
   "execution_count": null,
   "metadata": {},
   "outputs": [],
   "source": [
    "f, ax = plt.subplots(2,4, figsize=(9,5))\n",
    "\n",
    "ax[0,0].plot(freq_list[0], psd_list[0])\n",
    "ax[0,1].plot(freq_list[1], psd_list[1])\n",
    "ax[0,2].plot(freq_list[2], psd_list[2])\n",
    "ax[0,3].plot(freq_list[3], psd_list[3])\n",
    "\n",
    "ax[1,0].plot(freq_list[4], psd_list[4])\n",
    "ax[1,1].plot(freq_list[5], psd_list[5])\n",
    "ax[1,2].plot(freq_list[6], psd_list[6])\n",
    "ax[1,3].plot(freq_list[7], psd_list[7])"
   ]
  },
  {
   "cell_type": "markdown",
   "metadata": {},
   "source": [
    "# FOOOF  \n",
    "- https://fooof-tools.github.io/fooof/\n",
    "- https://github.com/valentinealissa/FOOOFy "
   ]
  },
  {
   "cell_type": "code",
   "execution_count": 28,
   "metadata": {},
   "outputs": [
    {
     "name": "stdout",
     "output_type": "stream",
     "text": [
      "\n",
      "FOOOF WARNING: Lower-bound peak width limit is < or ~= the frequency resolution: 0.50 <= 0.50\n",
      "\tLower bounds below frequency-resolution have no effect (effective lower bound is the frequency resolution).\n",
      "\tToo low a limit may lead to overfitting noise as small bandwidth peaks.\n",
      "\tWe recommend a lower bound of approximately 2x the frequency resolution.\n",
      "\n",
      "\n",
      "FOOOF WARNING: Lower-bound peak width limit is < or ~= the frequency resolution: 0.50 <= 0.50\n",
      "\tLower bounds below frequency-resolution have no effect (effective lower bound is the frequency resolution).\n",
      "\tToo low a limit may lead to overfitting noise as small bandwidth peaks.\n",
      "\tWe recommend a lower bound of approximately 2x the frequency resolution.\n",
      "\n",
      "==================================================================================================\n",
      "                                                                                                  \n",
      "                                   FOOOF - POWER SPECTRUM MODEL                                   \n",
      "                                                                                                  \n",
      "                        The model was run on the frequency range 2 - 32 Hz                        \n",
      "                                 Frequency Resolution is 0.50 Hz                                  \n",
      "                                                                                                  \n",
      "                            Aperiodic Parameters (offset, exponent):                              \n",
      "                                          5.1718, 0.9304                                          \n",
      "                                                                                                  \n",
      "                                       3 peaks were found:                                        \n",
      "                                CF:   5.08, PW:  0.960, BW:  1.77                                 \n",
      "                                CF:   9.30, PW:  0.792, BW:  3.02                                 \n",
      "                                CF:  13.52, PW:  0.792, BW:  1.21                                 \n",
      "                                                                                                  \n",
      "                                     Goodness of fit metrics:                                     \n",
      "                                    R^2 of model fit is 0.8420                                    \n",
      "                                    Error of the fit is 0.1706                                    \n",
      "                                                                                                  \n",
      "==================================================================================================\n"
     ]
    },
    {
     "data": {
      "image/png": "[encoded data removed]",
      "text/plain": [
       "<Figure size 1000x800 with 1 Axes>"
      ]
     },
     "metadata": {},
     "output_type": "display_data"
    }
   ],
   "source": [
    "# get power spectral for pre-op\n",
    "freq_mean, psd_mean = compute_spectrum(pre_raw, pre_hz, method='welch', avg_type='mean', nperseg=pre_hz*2)\n",
    "new_freq = freq_mean[freq_mean<120]\n",
    "new_psd = psd_mean[freq_mean<120] #???? why select from freq_mean again? \n",
    "\n",
    "# Initialize FOOOF object\n",
    "fm = FOOOF()\n",
    "# Define frequency range across which to model the spectrum\n",
    "freq_range = [2, 32]\n",
    "\n",
    "# Model the power spectrum with FOOOF, and print out a report\n",
    "# fm.fit(new_freq, new_psd, freq_range)\n",
    "fm.report(new_freq, new_psd, freq_range)"
   ]
  },
  {
   "cell_type": "markdown",
   "metadata": {},
   "source": [
    "## plotting check"
   ]
  },
  {
   "cell_type": "code",
   "execution_count": null,
   "metadata": {},
   "outputs": [],
   "source": [
    "# All data quick visualization\n",
    "CLFP_all\n",
    "plt.plot(pre_raw)"
   ]
  },
  {
   "cell_type": "code",
   "execution_count": null,
   "metadata": {},
   "outputs": [],
   "source": [
    "# single data file examination\n",
    "mat_file = scipy.io.loadmat(mat_files[4])\n",
    "CLFP_01 = mat_file['CLFP_01']\n",
    "plt.plot(CLFP_01[0,:])"
   ]
  },
  {
   "cell_type": "markdown",
   "metadata": {},
   "source": [
    "# Pre-processing IIR filtering\n",
    "\n",
    "Note:\n",
    "- bandstop, exclusion.\n",
    "- bandpass, inclusion. "
   ]
  },
  {
   "cell_type": "code",
   "execution_count": null,
   "metadata": {},
   "outputs": [],
   "source": [
    "# Pre-processing: https://neurodsp-tools.github.io/neurodsp/auto_tutorials/filt/plot_3_IIR.html?highlight=line%20noise\n",
    "from neurodsp.filt import filter_signal"
   ]
  },
  {
   "cell_type": "code",
   "execution_count": null,
   "metadata": {},
   "outputs": [],
   "source": [
    "#filtering test for CLFP\n",
    "f_range = (58, 62)\n",
    "sig_filt = filter_signal(CLFP_all, CLFP_hz, 'bandstop', f_range,\n",
    "                         filter_type='iir', butterworth_order=3)\n",
    "\n",
    "# Plot filtered signal for the first 1 second\n",
    "plt.plot(sig_filt[0:1375]) #filtered\n",
    "plt.plot(CLFP_all[0:1375]) #raw"
   ]
  },
  {
   "cell_type": "code",
   "execution_count": null,
   "metadata": {},
   "outputs": [],
   "source": [
    "#filtering test for Raw data\n",
    "f_range = (58, 62)\n",
    "sig_filt = filter_signal(pre_raw, 1000, 'bandstop', f_range,\n",
    "                         filter_type='iir', butterworth_order=3)\n",
    "\n",
    "# Plot filtered signal for the first 1 second\n",
    "# plt.plot(sig_filt[0:10000]) #filtered\n",
    "plt.plot(pre_raw[0:10000]) #raw\n",
    "plt.plot(sig_filt[0:10000]) #filtered"
   ]
  },
  {
   "cell_type": "code",
   "execution_count": null,
   "metadata": {},
   "outputs": [],
   "source": [
    "# # tutorial testing\n",
    "\n",
    "# from neurodsp.filt.iir import design_iir_filter, apply_iir_filter\n",
    "# from neurodsp.filt.utils import compute_frequency_response, compute_transition_band\n",
    "# Import plotting functions\n",
    "# from neurodsp.plts import plot_frequency_response, plot_time_series\n",
    "\n",
    "# n_seconds = 1\n",
    "# fs = 1000\n",
    "\n",
    "# # Define filter settings\n",
    "# pass_type = 'bandstop'\n",
    "# f_range = (58, 62) #freq range to filter out\n",
    "# butterworth_order = 12\n",
    "\n",
    "# # Design the filter, getting the second-order series (sos) values for the filter\n",
    "# sos = design_iir_filter(fs, pass_type, f_range, butterworth_order)\n",
    "\n",
    "# # Compute the frequency response for the IIR filter\n",
    "# f_db, db = compute_frequency_response(sos, None, fs)\n",
    "\n",
    "# # Plot the frequency response\n",
    "# plot_frequency_response(f_db, db)"
   ]
  },
  {
   "cell_type": "code",
   "execution_count": null,
   "metadata": {},
   "outputs": [],
   "source": [
    "# note for visualization \n",
    "# ax.set_xticklabels(np.round(new_freqs[np.linspace(0, len(new_freqs)-1, 6).astype(int)]))\n",
    "# np.round(freq_mean[np.linspace(0, len(freq_mean)-1, 6).astype(int)])"
   ]
  }
 ],
 "metadata": {
  "kernelspec": {
   "display_name": "Python 3.11.0 ('LFPAnalysis')",
   "language": "python",
   "name": "python3"
  },
  "language_info": {
   "codemirror_mode": {
    "name": "ipython",
    "version": 3
   },
   "file_extension": ".py",
   "mimetype": "text/x-python",
   "name": "python",
   "nbconvert_exporter": "python",
   "pygments_lexer": "ipython3",
   "version": "3.11.0"
  },
  "vscode": {
   "interpreter": {
    "hash": "acbede3b7ca05049c8b223d0a009a5308a6d7bb120904684cb834bf93557b9e7"
   }
  }
 },
 "nbformat": 4,
 "nbformat_minor": 2
}
