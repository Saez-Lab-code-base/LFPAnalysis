{
 "cells": [
  {
   "cell_type": "markdown",
   "metadata": {},
   "source": [
    "# Example preprocessing notebook"
   ]
  },
  {
   "cell_type": "markdown",
   "metadata": {},
   "source": [
    "In this notebook we are going to walk through a single patient example. There are probably some patient-specific stuff in here that might change with other patients. Should be able to demonstrate the usage of different functions from the toolbox."
   ]
  },
  {
   "cell_type": "code",
   "execution_count": null,
   "metadata": {},
   "outputs": [],
   "source": [
    "%matplotlib inline\n",
    "%reload_ext autoreload\n",
    "%autoreload 2"
   ]
  },
  {
   "cell_type": "code",
   "execution_count": null,
   "metadata": {},
   "outputs": [],
   "source": [
    "import numpy as np\n",
    "import mne\n",
    "from glob import glob\n",
    "import matplotlib.pyplot as plt\n",
    "from matplotlib.backends.backend_pdf import PdfPages\n",
    "import seaborn as sns\n",
    "from scipy.stats import zscore, linregress\n",
    "import pandas as pd\n",
    "import h5py\n",
    "from mne.preprocessing.bads import _find_outliers"
   ]
  },
  {
   "cell_type": "code",
   "execution_count": null,
   "metadata": {},
   "outputs": [],
   "source": [
    "from LFPAnalysis import lfp_preprocess_utils, sync_utils"
   ]
  },
  {
   "cell_type": "markdown",
   "metadata": {},
   "source": [
    "## Load the data and clean up MNE structure"
   ]
  },
  {
   "cell_type": "code",
   "execution_count": null,
   "metadata": {},
   "outputs": [],
   "source": [
    "base_dir = '/sc/arion' # this is the root directory for most un-archived data and results \n",
    "\n",
    "save_dir = f'{base_dir}/work/qasims01/MemoryBanditData/EMU/Subjects/MS007'  # save intermediate results in the 'work' directory\n",
    "    \n",
    "# I have saved most of my raw data in the 'projects directory'\n",
    "behav_dir = f'{base_dir}/projects/guLab/Salman/EMU/MS007/behav/Day1'\n",
    "neural_dir = f'{base_dir}/projects/guLab/Salman/EMU/MS007/neural/Day1'\n",
    "anat_dir = f'{base_dir}/projects/guLab/Salman/EMU/MS007/anat'\n",
    "edf_files = glob(f'{neural_dir}/*.edf')\n",
    "\n",
    "\n"
   ]
  },
  {
   "cell_type": "markdown",
   "metadata": {},
   "source": [
    "Try loading in the data into memory"
   ]
  },
  {
   "cell_type": "code",
   "execution_count": null,
   "metadata": {},
   "outputs": [],
   "source": [
    "MS007_data = mne.io.read_raw_edf(edf_files[0], preload=True)\n",
    "# If you try to preload, it will kill the kernel (at mem=4000). Probably need to request more memory in Minerva (mem=8000 seems to work)\n",
    "\n",
    "# # If not preloading: \n",
    "# raw_data = MS007_data.get_data()"
   ]
  },
  {
   "cell_type": "code",
   "execution_count": null,
   "metadata": {},
   "outputs": [],
   "source": [
    "# # this command sets the backend so that the plots are interactive\n",
    "# get_ipython().run_line_magic('matplotlib', 'qt')\n",
    "\n",
    "# # plot all channels so that irrelevant/noisy channels can be saved as bad\n",
    "# MS007_data.plot(n_channels=50)"
   ]
  },
  {
   "cell_type": "code",
   "execution_count": null,
   "metadata": {},
   "outputs": [],
   "source": [
    "# Sanity check\n",
    "plt.plot(MS007_data._data[0,:4999])\n",
    "plt.title(\"Raw iEEG, electrode 0, samples 0-4999\")\n",
    "plt.show()"
   ]
  },
  {
   "cell_type": "code",
   "execution_count": null,
   "metadata": {},
   "outputs": [],
   "source": [
    "# Sanity check the photodiode\n",
    "trig_ix = MS007_data.ch_names.index('DC1')\n",
    "plt.plot(MS007_data._data[trig_ix, 10000:50000])\n",
    "plt.title(\"Photodiode\")\n",
    "plt.show()"
   ]
  },
  {
   "cell_type": "code",
   "execution_count": null,
   "metadata": {},
   "outputs": [],
   "source": [
    "# Load the electrode localization data and add it in\n",
    "\n",
    "csv_files = glob(f'{anat_dir}/*labels.csv')\n",
    "elec_locs = pd.read_csv(csv_files[0])\n",
    "\n",
    "# Sometimes there's extra columns with no entries: \n",
    "elec_locs = elec_locs[elec_locs.columns.drop(list(elec_locs.filter(regex='Unnamed')))]\n"
   ]
  },
  {
   "cell_type": "markdown",
   "metadata": {},
   "source": [
    "The electrode names read out of the edf file do not always match those \n",
    "in the pdf (used for localization). This could be error on the side of the tech who input the labels, \n",
    "or on the side of MNE reading the labels in. Usually there's a mixup between lowercase 'l' and capital 'I'.\n",
    "\n",
    "Sometimes, there's electrodes on the pdf that are NOT in the MNE data structure... let's identify those as well. \n"
   ]
  },
  {
   "cell_type": "code",
   "execution_count": null,
   "metadata": {},
   "outputs": [],
   "source": [
    "new_mne_names, unmatched_names, unmatched_seeg = lfp_preprocess_utils.match_elec_names(MS007_data.ch_names, elec_locs.label)\n",
    "\n",
    "\n"
   ]
  },
  {
   "cell_type": "markdown",
   "metadata": {},
   "source": [
    "So we retun a new list of channel names for the mne data structure as well as a list of channels in the localization csv which are not found in the mne structure. Make sure that unmatched_seeg does not factor into any referencing schemes later - it's not in the MNE data"
   ]
  },
  {
   "cell_type": "code",
   "execution_count": null,
   "metadata": {},
   "outputs": [],
   "source": [
    "# Rename the mne data according to the localization data\n",
    "new_name_dict = {x:y for (x,y) in zip(MS007_data.ch_names, new_mne_names)}\n",
    "MS007_data.rename_channels(new_name_dict)"
   ]
  },
  {
   "cell_type": "code",
   "execution_count": null,
   "metadata": {},
   "outputs": [],
   "source": [
    "MS007_data.ch_names"
   ]
  },
  {
   "cell_type": "markdown",
   "metadata": {},
   "source": [
    "## Now process the channel data\n"
   ]
  },
  {
   "cell_type": "code",
   "execution_count": null,
   "metadata": {},
   "outputs": [],
   "source": [
    "# Note, there is surface EEG data that we should separately indicate from the sEEG:\n",
    "right_seeg_names = [i for i in MS007_data.ch_names if i.startswith('r')]\n",
    "left_seeg_names = [i for i in MS007_data.ch_names if i.startswith('l')]\n",
    "# This is optional. I might want to look at scalp EEG at some point (lol) so might as well tag them here. \n",
    "eeg_names = [\n",
    " 'fp1',\n",
    " 'f7',\n",
    " 't3',\n",
    " 't5',\n",
    " 'o1',\n",
    " 'f3',\n",
    " 'c3',\n",
    " 'p3',\n",
    " 'fp2',\n",
    " 'f8',\n",
    " 't4',\n",
    " 't6',\n",
    " 'o2',\n",
    " 'f4',\n",
    " 'c4',\n",
    " 'p4',\n",
    " 'fz',\n",
    " 'cz',\n",
    " 'pz']\n",
    "print(f'We have a total of {len(left_seeg_names) + len(right_seeg_names)} sEEG electrodes')\n",
    "print(f'We have a total of {len(eeg_names)} EEG electrodes')\n",
    "# MS007_data.set_channel_types()"
   ]
  },
  {
   "cell_type": "code",
   "execution_count": null,
   "metadata": {},
   "outputs": [],
   "source": [
    "sEEG_mapping_dict = {f'{x}':'seeg' for x in left_seeg_names+right_seeg_names}\n",
    "EEG_mapping_dict = {f'{x}':'eeg' for x in eeg_names}\n",
    "trig_mapping_dict = {'dc1':'stim'}\n",
    "# Drop random chans? \n",
    "drop_chans = list(set(MS007_data.ch_names)^set(eeg_names+left_seeg_names+right_seeg_names+['dc1']))\n",
    "MS007_data.drop_channels(drop_chans)"
   ]
  },
  {
   "cell_type": "code",
   "execution_count": null,
   "metadata": {},
   "outputs": [],
   "source": [
    "# Set channel types:\n",
    "MS007_data.set_channel_types(sEEG_mapping_dict)\n",
    "MS007_data.set_channel_types(EEG_mapping_dict)\n",
    "MS007_data.set_channel_types(trig_mapping_dict)"
   ]
  },
  {
   "cell_type": "code",
   "execution_count": null,
   "metadata": {},
   "outputs": [],
   "source": [
    "# make montage (convert mm to m)!!\n",
    "montage = mne.channels.make_dig_montage(ch_pos=dict(zip(elec_locs.label, \n",
    "                                                        elec_locs[['mni_x', 'mni_y', 'mni_z']].to_numpy(dtype=float)/1000)),\n",
    "                                        coord_frame='mni_tal')\n",
    "\n",
    "MS007_data.set_montage(montage, match_case=False, on_missing='warn')\n"
   ]
  },
  {
   "cell_type": "markdown",
   "metadata": {},
   "source": [
    "Denote bad channels"
   ]
  },
  {
   "cell_type": "code",
   "execution_count": null,
   "metadata": {},
   "outputs": [],
   "source": [
    "# Clean up the MNE data \n",
    "\n",
    "bads = lfp_preprocess_utils.detect_bad_elecs(MS007_data, \n",
    "                                             sEEG_mapping_dict)\n",
    "\n",
    "MS007_data.info['bads'] = bads"
   ]
  },
  {
   "cell_type": "markdown",
   "metadata": {},
   "source": [
    "## Re-referencing"
   ]
  },
  {
   "cell_type": "markdown",
   "metadata": {},
   "source": [
    "Now, let's use the localization data to determine the gray vs. white matter electrodes. \n",
    "Then, let's re-reference each gray matter electrode to the closest and most low-amplitude white matter electrode. \n",
    "\n",
    "Make sure 'bad' electrodes are not used in the re-referencing. Same with unmatched seeg electrodes (not present in the mne data structure)."
   ]
  },
  {
   "cell_type": "code",
   "execution_count": null,
   "metadata": {},
   "outputs": [],
   "source": [
    "anode_list, cathode_list, drop_wm_channels, oob_channels = lfp_preprocess_utils.wm_ref(MS007_data, elec_locs, \n",
    "                                                       MS007_data.info['bads'], \n",
    "                                                       unmatched_seeg=unmatched_seeg)\n",
    "\n",
    "\n"
   ]
  },
  {
   "cell_type": "code",
   "execution_count": null,
   "metadata": {},
   "outputs": [],
   "source": [
    "MS007_data_reref = mne.set_bipolar_reference(MS007_data, \n",
    "                          anode=anode_list, \n",
    "                          cathode=cathode_list,\n",
    "                          copy=True)"
   ]
  },
  {
   "cell_type": "code",
   "execution_count": null,
   "metadata": {},
   "outputs": [],
   "source": [
    "MS007_data_reref.drop_channels(drop_wm_channels)"
   ]
  },
  {
   "cell_type": "code",
   "execution_count": null,
   "metadata": {},
   "outputs": [],
   "source": [
    "MS007_data_reref.drop_channels(oob_channels)"
   ]
  },
  {
   "cell_type": "code",
   "execution_count": null,
   "metadata": {},
   "outputs": [],
   "source": [
    "right_seeg_names = [i for i in MS007_data_reref.ch_names if i.startswith('r')]\n",
    "left_seeg_names = [i for i in MS007_data_reref.ch_names if i.startswith('l')]\n",
    "sEEG_mapping_dict = {f'{x}':'seeg' for x in left_seeg_names+right_seeg_names}\n",
    "MS007_data_reref.set_channel_types(sEEG_mapping_dict)\n"
   ]
  },
  {
   "cell_type": "code",
   "execution_count": null,
   "metadata": {},
   "outputs": [],
   "source": [
    "bads = lfp_preprocess_utils.detect_bad_elecs(MS007_data_reref, \n",
    "                                             sEEG_mapping_dict)"
   ]
  },
  {
   "cell_type": "code",
   "execution_count": null,
   "metadata": {},
   "outputs": [],
   "source": [
    "MS007_data_reref.info['bads'] = bads"
   ]
  },
  {
   "cell_type": "code",
   "execution_count": null,
   "metadata": {},
   "outputs": [],
   "source": [
    "fig = MS007_data_reref.plot()"
   ]
  },
  {
   "cell_type": "code",
   "execution_count": null,
   "metadata": {},
   "outputs": [],
   "source": [
    "# Plot the supposedly bad channels: \n",
    "\n",
    "f, ax = plt.subplots(len(MS007_data_reref.info['bads']), 1, figsize=(10, len(MS007_data_reref.info['bads'])))\n",
    "for ix, chan in enumerate(mne.io.pick.pick_channels(MS007_data_reref.ch_names, MS007_data_reref.info['bads'])): \n",
    "    ax[ix].plot(MS007_data_reref._data[chan, :], linewidth=0.2, color='k')\n",
    "plt.show()"
   ]
  },
  {
   "cell_type": "markdown",
   "metadata": {},
   "source": [
    "## Epoch and pre-process signals"
   ]
  },
  {
   "cell_type": "code",
   "execution_count": null,
   "metadata": {},
   "outputs": [],
   "source": []
  }
 ],
 "metadata": {
  "kernelspec": {
   "display_name": "lfp_analysis",
   "language": "python",
   "name": "lfpanalysis"
  },
  "language_info": {
   "codemirror_mode": {
    "name": "ipython",
    "version": 3
   },
   "file_extension": ".py",
   "mimetype": "text/x-python",
   "name": "python",
   "nbconvert_exporter": "python",
   "pygments_lexer": "ipython3",
   "version": "3.11.0"
  }
 },
 "nbformat": 4,
 "nbformat_minor": 2
}
